{
 "cells": [
  {
   "cell_type": "code",
   "execution_count": 1691,
   "metadata": {},
   "outputs": [],
   "source": [
    "import pandas as pd\n",
    "import numpy as np\n",
    "import matplotlib.pyplot as plt\n",
    "import seaborn as sns\n",
    "from scipy import stats\n",
    "from scipy.stats import skew\n",
    "import warnings\n",
    "warnings.filterwarnings('ignore')\n",
    "%matplotlib inline"
   ]
  },
  {
   "cell_type": "code",
   "execution_count": 1210,
   "metadata": {},
   "outputs": [],
   "source": [
    "train = pd.read_csv(\"all/train.csv\")\n",
    "test = pd.read_csv(\"all/test.csv\")"
   ]
  },
  {
   "cell_type": "code",
   "execution_count": 1211,
   "metadata": {},
   "outputs": [],
   "source": [
    "train_id = train['Id']"
   ]
  },
  {
   "cell_type": "code",
   "execution_count": 1212,
   "metadata": {},
   "outputs": [],
   "source": [
    "test_id = test['Id']"
   ]
  },
  {
   "cell_type": "code",
   "execution_count": 1213,
   "metadata": {},
   "outputs": [],
   "source": [
    "train.drop('Id',axis = 1, inplace = True)\n",
    "test.drop('Id',axis = 1, inplace = True)"
   ]
  },
  {
   "cell_type": "code",
   "execution_count": 1214,
   "metadata": {},
   "outputs": [
    {
     "data": {
      "text/html": [
       "<div>\n",
       "<style scoped>\n",
       "    .dataframe tbody tr th:only-of-type {\n",
       "        vertical-align: middle;\n",
       "    }\n",
       "\n",
       "    .dataframe tbody tr th {\n",
       "        vertical-align: top;\n",
       "    }\n",
       "\n",
       "    .dataframe thead th {\n",
       "        text-align: right;\n",
       "    }\n",
       "</style>\n",
       "<table border=\"1\" class=\"dataframe\">\n",
       "  <thead>\n",
       "    <tr style=\"text-align: right;\">\n",
       "      <th></th>\n",
       "      <th>MSSubClass</th>\n",
       "      <th>MSZoning</th>\n",
       "      <th>LotFrontage</th>\n",
       "      <th>LotArea</th>\n",
       "      <th>Street</th>\n",
       "      <th>Alley</th>\n",
       "      <th>LotShape</th>\n",
       "      <th>LandContour</th>\n",
       "      <th>Utilities</th>\n",
       "      <th>LotConfig</th>\n",
       "      <th>...</th>\n",
       "      <th>PoolArea</th>\n",
       "      <th>PoolQC</th>\n",
       "      <th>Fence</th>\n",
       "      <th>MiscFeature</th>\n",
       "      <th>MiscVal</th>\n",
       "      <th>MoSold</th>\n",
       "      <th>YrSold</th>\n",
       "      <th>SaleType</th>\n",
       "      <th>SaleCondition</th>\n",
       "      <th>SalePrice</th>\n",
       "    </tr>\n",
       "  </thead>\n",
       "  <tbody>\n",
       "    <tr>\n",
       "      <th>0</th>\n",
       "      <td>60</td>\n",
       "      <td>RL</td>\n",
       "      <td>65.0</td>\n",
       "      <td>8450</td>\n",
       "      <td>Pave</td>\n",
       "      <td>NaN</td>\n",
       "      <td>Reg</td>\n",
       "      <td>Lvl</td>\n",
       "      <td>AllPub</td>\n",
       "      <td>Inside</td>\n",
       "      <td>...</td>\n",
       "      <td>0</td>\n",
       "      <td>NaN</td>\n",
       "      <td>NaN</td>\n",
       "      <td>NaN</td>\n",
       "      <td>0</td>\n",
       "      <td>2</td>\n",
       "      <td>2008</td>\n",
       "      <td>WD</td>\n",
       "      <td>Normal</td>\n",
       "      <td>208500</td>\n",
       "    </tr>\n",
       "    <tr>\n",
       "      <th>1</th>\n",
       "      <td>20</td>\n",
       "      <td>RL</td>\n",
       "      <td>80.0</td>\n",
       "      <td>9600</td>\n",
       "      <td>Pave</td>\n",
       "      <td>NaN</td>\n",
       "      <td>Reg</td>\n",
       "      <td>Lvl</td>\n",
       "      <td>AllPub</td>\n",
       "      <td>FR2</td>\n",
       "      <td>...</td>\n",
       "      <td>0</td>\n",
       "      <td>NaN</td>\n",
       "      <td>NaN</td>\n",
       "      <td>NaN</td>\n",
       "      <td>0</td>\n",
       "      <td>5</td>\n",
       "      <td>2007</td>\n",
       "      <td>WD</td>\n",
       "      <td>Normal</td>\n",
       "      <td>181500</td>\n",
       "    </tr>\n",
       "    <tr>\n",
       "      <th>2</th>\n",
       "      <td>60</td>\n",
       "      <td>RL</td>\n",
       "      <td>68.0</td>\n",
       "      <td>11250</td>\n",
       "      <td>Pave</td>\n",
       "      <td>NaN</td>\n",
       "      <td>IR1</td>\n",
       "      <td>Lvl</td>\n",
       "      <td>AllPub</td>\n",
       "      <td>Inside</td>\n",
       "      <td>...</td>\n",
       "      <td>0</td>\n",
       "      <td>NaN</td>\n",
       "      <td>NaN</td>\n",
       "      <td>NaN</td>\n",
       "      <td>0</td>\n",
       "      <td>9</td>\n",
       "      <td>2008</td>\n",
       "      <td>WD</td>\n",
       "      <td>Normal</td>\n",
       "      <td>223500</td>\n",
       "    </tr>\n",
       "    <tr>\n",
       "      <th>3</th>\n",
       "      <td>70</td>\n",
       "      <td>RL</td>\n",
       "      <td>60.0</td>\n",
       "      <td>9550</td>\n",
       "      <td>Pave</td>\n",
       "      <td>NaN</td>\n",
       "      <td>IR1</td>\n",
       "      <td>Lvl</td>\n",
       "      <td>AllPub</td>\n",
       "      <td>Corner</td>\n",
       "      <td>...</td>\n",
       "      <td>0</td>\n",
       "      <td>NaN</td>\n",
       "      <td>NaN</td>\n",
       "      <td>NaN</td>\n",
       "      <td>0</td>\n",
       "      <td>2</td>\n",
       "      <td>2006</td>\n",
       "      <td>WD</td>\n",
       "      <td>Abnorml</td>\n",
       "      <td>140000</td>\n",
       "    </tr>\n",
       "    <tr>\n",
       "      <th>4</th>\n",
       "      <td>60</td>\n",
       "      <td>RL</td>\n",
       "      <td>84.0</td>\n",
       "      <td>14260</td>\n",
       "      <td>Pave</td>\n",
       "      <td>NaN</td>\n",
       "      <td>IR1</td>\n",
       "      <td>Lvl</td>\n",
       "      <td>AllPub</td>\n",
       "      <td>FR2</td>\n",
       "      <td>...</td>\n",
       "      <td>0</td>\n",
       "      <td>NaN</td>\n",
       "      <td>NaN</td>\n",
       "      <td>NaN</td>\n",
       "      <td>0</td>\n",
       "      <td>12</td>\n",
       "      <td>2008</td>\n",
       "      <td>WD</td>\n",
       "      <td>Normal</td>\n",
       "      <td>250000</td>\n",
       "    </tr>\n",
       "  </tbody>\n",
       "</table>\n",
       "<p>5 rows × 80 columns</p>\n",
       "</div>"
      ],
      "text/plain": [
       "   MSSubClass MSZoning  LotFrontage  LotArea Street Alley LotShape  \\\n",
       "0          60       RL         65.0     8450   Pave   NaN      Reg   \n",
       "1          20       RL         80.0     9600   Pave   NaN      Reg   \n",
       "2          60       RL         68.0    11250   Pave   NaN      IR1   \n",
       "3          70       RL         60.0     9550   Pave   NaN      IR1   \n",
       "4          60       RL         84.0    14260   Pave   NaN      IR1   \n",
       "\n",
       "  LandContour Utilities LotConfig    ...     PoolArea PoolQC Fence  \\\n",
       "0         Lvl    AllPub    Inside    ...            0    NaN   NaN   \n",
       "1         Lvl    AllPub       FR2    ...            0    NaN   NaN   \n",
       "2         Lvl    AllPub    Inside    ...            0    NaN   NaN   \n",
       "3         Lvl    AllPub    Corner    ...            0    NaN   NaN   \n",
       "4         Lvl    AllPub       FR2    ...            0    NaN   NaN   \n",
       "\n",
       "  MiscFeature MiscVal MoSold  YrSold  SaleType  SaleCondition  SalePrice  \n",
       "0         NaN       0      2    2008        WD         Normal     208500  \n",
       "1         NaN       0      5    2007        WD         Normal     181500  \n",
       "2         NaN       0      9    2008        WD         Normal     223500  \n",
       "3         NaN       0      2    2006        WD        Abnorml     140000  \n",
       "4         NaN       0     12    2008        WD         Normal     250000  \n",
       "\n",
       "[5 rows x 80 columns]"
      ]
     },
     "execution_count": 1214,
     "metadata": {},
     "output_type": "execute_result"
    }
   ],
   "source": [
    "train.head()"
   ]
  },
  {
   "cell_type": "code",
   "execution_count": 1215,
   "metadata": {},
   "outputs": [],
   "source": [
    "y_train = train['SalePrice']"
   ]
  },
  {
   "cell_type": "code",
   "execution_count": 1216,
   "metadata": {},
   "outputs": [],
   "source": [
    "train = train.drop(['SalePrice'], axis=1)"
   ]
  },
  {
   "cell_type": "code",
   "execution_count": 1217,
   "metadata": {},
   "outputs": [
    {
     "data": {
      "text/plain": [
       "<matplotlib.axes._subplots.AxesSubplot at 0x1a2bcf7d68>"
      ]
     },
     "execution_count": 1217,
     "metadata": {},
     "output_type": "execute_result"
    },
    {
     "data": {
      "image/png": "[encoded data removed]",
      "text/plain": [
       "<Figure size 432x288 with 1 Axes>"
      ]
     },
     "metadata": {},
     "output_type": "display_data"
    }
   ],
   "source": [
    "sns.distplot(y_train)"
   ]
  },
  {
   "cell_type": "code",
   "execution_count": 1218,
   "metadata": {
    "scrolled": false
   },
   "outputs": [
    {
     "data": {
      "text/plain": [
       "<matplotlib.axes._subplots.AxesSubplot at 0x1a2a364e80>"
      ]
     },
     "execution_count": 1218,
     "metadata": {},
     "output_type": "execute_result"
    },
    {
     "data": {
      "image/png": "[encoded data removed]",
      "text/plain": [
       "<Figure size 432x288 with 1 Axes>"
      ]
     },
     "metadata": {},
     "output_type": "display_data"
    }
   ],
   "source": [
    "sns.distplot(np.log1p(y_train))"
   ]
  },
  {
   "cell_type": "code",
   "execution_count": 1219,
   "metadata": {},
   "outputs": [],
   "source": [
    "logy_train = np.log1p(y_train)"
   ]
  },
  {
   "cell_type": "code",
   "execution_count": 1220,
   "metadata": {},
   "outputs": [
    {
     "data": {
      "text/plain": [
       "(1460, 79)"
      ]
     },
     "execution_count": 1220,
     "metadata": {},
     "output_type": "execute_result"
    }
   ],
   "source": [
    "train.shape"
   ]
  },
  {
   "cell_type": "code",
   "execution_count": 1221,
   "metadata": {},
   "outputs": [
    {
     "data": {
      "text/plain": [
       "(1459, 79)"
      ]
     },
     "execution_count": 1221,
     "metadata": {},
     "output_type": "execute_result"
    }
   ],
   "source": [
    "test.shape"
   ]
  },
  {
   "cell_type": "code",
   "execution_count": 1222,
   "metadata": {
    "scrolled": false
   },
   "outputs": [
    {
     "data": {
      "text/plain": [
       "array([ True,  True,  True,  True,  True,  True,  True,  True,  True,\n",
       "        True,  True,  True,  True,  True,  True,  True,  True,  True,\n",
       "        True,  True,  True,  True,  True,  True,  True,  True,  True,\n",
       "        True,  True,  True,  True,  True,  True,  True,  True,  True,\n",
       "        True,  True,  True,  True,  True,  True,  True,  True,  True,\n",
       "        True,  True,  True,  True,  True,  True,  True,  True,  True,\n",
       "        True,  True,  True,  True,  True,  True,  True,  True,  True,\n",
       "        True,  True,  True,  True,  True,  True,  True,  True,  True,\n",
       "        True,  True,  True,  True,  True,  True,  True])"
      ]
     },
     "execution_count": 1222,
     "metadata": {},
     "output_type": "execute_result"
    }
   ],
   "source": [
    "train.columns == test.columns"
   ]
  },
  {
   "cell_type": "code",
   "execution_count": 1223,
   "metadata": {},
   "outputs": [],
   "source": [
    "from sklearn.model_selection import train_test_split\n",
    "train, mytest, y_train, y_mytest = train_test_split(\n",
    "     train, logy_train, test_size=0.2, random_state=42)"
   ]
  },
  {
   "cell_type": "code",
   "execution_count": 1224,
   "metadata": {},
   "outputs": [
    {
     "data": {
      "text/plain": [
       "((1168, 79), (1168,), (1460,))"
      ]
     },
     "execution_count": 1224,
     "metadata": {},
     "output_type": "execute_result"
    }
   ],
   "source": [
    "train.shape, y_train.shape, logy_train.shape"
   ]
  },
  {
   "cell_type": "code",
   "execution_count": 1225,
   "metadata": {},
   "outputs": [
    {
     "data": {
      "text/plain": [
       "((292, 79), (292,))"
      ]
     },
     "execution_count": 1225,
     "metadata": {},
     "output_type": "execute_result"
    }
   ],
   "source": [
    "mytest.shape, y_mytest.shape"
   ]
  },
  {
   "cell_type": "code",
   "execution_count": 1226,
   "metadata": {},
   "outputs": [],
   "source": [
    "missing_df = train.isnull().sum().reset_index()\n",
    "missing_df.columns = ['column_name', 'missing_count']\n",
    "missing_df = missing_df.loc[missing_df['missing_count']>0]\n",
    "missing_df = missing_df.sort_values(by = 'missing_count')\n",
    "missing_df['missing_percentage'] = missing_df['missing_count']/train.shape[0]"
   ]
  },
  {
   "cell_type": "code",
   "execution_count": 1227,
   "metadata": {
    "scrolled": true
   },
   "outputs": [
    {
     "data": {
      "text/html": [
       "<div>\n",
       "<style scoped>\n",
       "    .dataframe tbody tr th:only-of-type {\n",
       "        vertical-align: middle;\n",
       "    }\n",
       "\n",
       "    .dataframe tbody tr th {\n",
       "        vertical-align: top;\n",
       "    }\n",
       "\n",
       "    .dataframe thead th {\n",
       "        text-align: right;\n",
       "    }\n",
       "</style>\n",
       "<table border=\"1\" class=\"dataframe\">\n",
       "  <thead>\n",
       "    <tr style=\"text-align: right;\">\n",
       "      <th></th>\n",
       "      <th>column_name</th>\n",
       "      <th>missing_count</th>\n",
       "      <th>missing_percentage</th>\n",
       "    </tr>\n",
       "  </thead>\n",
       "  <tbody>\n",
       "    <tr>\n",
       "      <th>41</th>\n",
       "      <td>Electrical</td>\n",
       "      <td>1</td>\n",
       "      <td>0.000856</td>\n",
       "    </tr>\n",
       "    <tr>\n",
       "      <th>24</th>\n",
       "      <td>MasVnrType</td>\n",
       "      <td>6</td>\n",
       "      <td>0.005137</td>\n",
       "    </tr>\n",
       "    <tr>\n",
       "      <th>25</th>\n",
       "      <td>MasVnrArea</td>\n",
       "      <td>6</td>\n",
       "      <td>0.005137</td>\n",
       "    </tr>\n",
       "    <tr>\n",
       "      <th>29</th>\n",
       "      <td>BsmtQual</td>\n",
       "      <td>28</td>\n",
       "      <td>0.023973</td>\n",
       "    </tr>\n",
       "    <tr>\n",
       "      <th>30</th>\n",
       "      <td>BsmtCond</td>\n",
       "      <td>28</td>\n",
       "      <td>0.023973</td>\n",
       "    </tr>\n",
       "    <tr>\n",
       "      <th>31</th>\n",
       "      <td>BsmtExposure</td>\n",
       "      <td>28</td>\n",
       "      <td>0.023973</td>\n",
       "    </tr>\n",
       "    <tr>\n",
       "      <th>32</th>\n",
       "      <td>BsmtFinType1</td>\n",
       "      <td>28</td>\n",
       "      <td>0.023973</td>\n",
       "    </tr>\n",
       "    <tr>\n",
       "      <th>34</th>\n",
       "      <td>BsmtFinType2</td>\n",
       "      <td>28</td>\n",
       "      <td>0.023973</td>\n",
       "    </tr>\n",
       "    <tr>\n",
       "      <th>63</th>\n",
       "      <td>GarageCond</td>\n",
       "      <td>64</td>\n",
       "      <td>0.054795</td>\n",
       "    </tr>\n",
       "    <tr>\n",
       "      <th>62</th>\n",
       "      <td>GarageQual</td>\n",
       "      <td>64</td>\n",
       "      <td>0.054795</td>\n",
       "    </tr>\n",
       "    <tr>\n",
       "      <th>59</th>\n",
       "      <td>GarageFinish</td>\n",
       "      <td>64</td>\n",
       "      <td>0.054795</td>\n",
       "    </tr>\n",
       "    <tr>\n",
       "      <th>57</th>\n",
       "      <td>GarageType</td>\n",
       "      <td>64</td>\n",
       "      <td>0.054795</td>\n",
       "    </tr>\n",
       "    <tr>\n",
       "      <th>58</th>\n",
       "      <td>GarageYrBlt</td>\n",
       "      <td>64</td>\n",
       "      <td>0.054795</td>\n",
       "    </tr>\n",
       "    <tr>\n",
       "      <th>2</th>\n",
       "      <td>LotFrontage</td>\n",
       "      <td>217</td>\n",
       "      <td>0.185788</td>\n",
       "    </tr>\n",
       "    <tr>\n",
       "      <th>56</th>\n",
       "      <td>FireplaceQu</td>\n",
       "      <td>547</td>\n",
       "      <td>0.468322</td>\n",
       "    </tr>\n",
       "    <tr>\n",
       "      <th>72</th>\n",
       "      <td>Fence</td>\n",
       "      <td>935</td>\n",
       "      <td>0.800514</td>\n",
       "    </tr>\n",
       "    <tr>\n",
       "      <th>5</th>\n",
       "      <td>Alley</td>\n",
       "      <td>1094</td>\n",
       "      <td>0.936644</td>\n",
       "    </tr>\n",
       "    <tr>\n",
       "      <th>73</th>\n",
       "      <td>MiscFeature</td>\n",
       "      <td>1122</td>\n",
       "      <td>0.960616</td>\n",
       "    </tr>\n",
       "    <tr>\n",
       "      <th>71</th>\n",
       "      <td>PoolQC</td>\n",
       "      <td>1162</td>\n",
       "      <td>0.994863</td>\n",
       "    </tr>\n",
       "  </tbody>\n",
       "</table>\n",
       "</div>"
      ],
      "text/plain": [
       "     column_name  missing_count  missing_percentage\n",
       "41    Electrical              1            0.000856\n",
       "24    MasVnrType              6            0.005137\n",
       "25    MasVnrArea              6            0.005137\n",
       "29      BsmtQual             28            0.023973\n",
       "30      BsmtCond             28            0.023973\n",
       "31  BsmtExposure             28            0.023973\n",
       "32  BsmtFinType1             28            0.023973\n",
       "34  BsmtFinType2             28            0.023973\n",
       "63    GarageCond             64            0.054795\n",
       "62    GarageQual             64            0.054795\n",
       "59  GarageFinish             64            0.054795\n",
       "57    GarageType             64            0.054795\n",
       "58   GarageYrBlt             64            0.054795\n",
       "2    LotFrontage            217            0.185788\n",
       "56   FireplaceQu            547            0.468322\n",
       "72         Fence            935            0.800514\n",
       "5          Alley           1094            0.936644\n",
       "73   MiscFeature           1122            0.960616\n",
       "71        PoolQC           1162            0.994863"
      ]
     },
     "execution_count": 1227,
     "metadata": {},
     "output_type": "execute_result"
    }
   ],
   "source": [
    "missing_df"
   ]
  },
  {
   "cell_type": "markdown",
   "metadata": {},
   "source": [
    "### Dealing with the missing value according to information in data_description.txt"
   ]
  },
  {
   "cell_type": "code",
   "execution_count": 1228,
   "metadata": {},
   "outputs": [],
   "source": [
    "index = train['PoolQC'].isnull()\n",
    "train.loc[index,'PoolQC'] = \"None\"\n",
    "\n",
    "index = mytest['PoolQC'].isnull()\n",
    "mytest.loc[index,'PoolQC'] = \"None\"\n",
    "\n",
    "index = test['PoolQC'].isnull()\n",
    "test.loc[index,'PoolQC'] = \"None\""
   ]
  },
  {
   "cell_type": "code",
   "execution_count": 1229,
   "metadata": {},
   "outputs": [],
   "source": [
    "index = train['MiscFeature'].isnull()\n",
    "train.loc[index,'MiscFeature'] = \"None\"\n",
    "\n",
    "index = mytest['MiscFeature'].isnull()\n",
    "mytest.loc[index,'MiscFeature'] = \"None\"\n",
    "\n",
    "index = test['MiscFeature'].isnull()\n",
    "test.loc[index,'MiscFeature'] = \"None\""
   ]
  },
  {
   "cell_type": "code",
   "execution_count": 1230,
   "metadata": {},
   "outputs": [],
   "source": [
    "index = train['Fence'].isnull()\n",
    "train.loc[index,'Fence'] = \"None\"\n",
    "\n",
    "index = mytest['Fence'].isnull()\n",
    "mytest.loc[index,'Fence'] = \"None\"\n",
    "\n",
    "index = test['Fence'].isnull()\n",
    "test.loc[index,'Fence'] = \"None\""
   ]
  },
  {
   "cell_type": "code",
   "execution_count": 1231,
   "metadata": {},
   "outputs": [],
   "source": [
    "index = train['Alley'].isnull()\n",
    "train.loc[index,'Alley'] = \"None\"\n",
    "\n",
    "index = mytest['Alley'].isnull()\n",
    "mytest.loc[index,'Alley'] = \"None\"\n",
    "\n",
    "index = test['Alley'].isnull()\n",
    "test.loc[index,'Alley'] = \"None\""
   ]
  },
  {
   "cell_type": "code",
   "execution_count": 1232,
   "metadata": {},
   "outputs": [],
   "source": [
    "index = train['FireplaceQu'].isnull()\n",
    "train.loc[index,'FireplaceQu'] = \"None\"\n",
    "\n",
    "index = mytest['FireplaceQu'].isnull()\n",
    "mytest.loc[index,'FireplaceQu'] = \"None\"\n",
    "\n",
    "index = test['FireplaceQu'].isnull()\n",
    "test.loc[index,'FireplaceQu'] = \"None\""
   ]
  },
  {
   "cell_type": "code",
   "execution_count": 1233,
   "metadata": {},
   "outputs": [],
   "source": [
    "mean_value = np.mean(train[train['LotFrontage'].notnull()]['LotFrontage'])\n",
    "train.loc[train['LotFrontage'].isnull(),'LotFrontage'] = mean_value\n",
    "\n",
    "mytest.loc[mytest['LotFrontage'].isnull(),'LotFrontage'] = mean_value\n",
    "\n",
    "test.loc[test['LotFrontage'].isnull(),'LotFrontage'] = mean_value"
   ]
  },
  {
   "cell_type": "code",
   "execution_count": 1234,
   "metadata": {},
   "outputs": [],
   "source": [
    "median_value = np.median(train[train['GarageYrBlt'].notnull()]['GarageYrBlt'])\n",
    "train.loc[train['GarageYrBlt'].isnull(),'GarageYrBlt'] = median_value\n",
    "\n",
    "mytest.loc[mytest['GarageYrBlt'].isnull(),'GarageYrBlt'] = median_value\n",
    "\n",
    "test.loc[test['GarageYrBlt'].isnull(),'GarageYrBlt'] = median_value"
   ]
  },
  {
   "cell_type": "code",
   "execution_count": 1235,
   "metadata": {},
   "outputs": [],
   "source": [
    "index = train['GarageType'].isnull()\n",
    "train.loc[index,'GarageType'] = \"None\"\n",
    "\n",
    "index = mytest['GarageType'].isnull()\n",
    "mytest.loc[index,'GarageType'] = \"None\"\n",
    "\n",
    "index = test['GarageType'].isnull()\n",
    "test.loc[index,'GarageType'] = \"None\""
   ]
  },
  {
   "cell_type": "code",
   "execution_count": 1236,
   "metadata": {},
   "outputs": [],
   "source": [
    "index = train['GarageFinish'].isnull()\n",
    "train.loc[index,'GarageFinish'] = \"None\"\n",
    "\n",
    "index = mytest['GarageFinish'].isnull()\n",
    "mytest.loc[index,'GarageFinish'] = \"None\"\n",
    "\n",
    "index = test['GarageFinish'].isnull()\n",
    "test.loc[index,'GarageFinish'] = \"None\""
   ]
  },
  {
   "cell_type": "code",
   "execution_count": 1237,
   "metadata": {},
   "outputs": [],
   "source": [
    "index = train['GarageQual'].isnull()\n",
    "train.loc[index,'GarageQual'] = \"None\"\n",
    "\n",
    "index = mytest['GarageQual'].isnull()\n",
    "mytest.loc[index,'GarageQual'] = \"None\"\n",
    "\n",
    "index = test['GarageQual'].isnull()\n",
    "test.loc[index,'GarageQual'] = \"None\""
   ]
  },
  {
   "cell_type": "code",
   "execution_count": 1238,
   "metadata": {},
   "outputs": [],
   "source": [
    "index = train['GarageCond'].isnull()\n",
    "train.loc[index,'GarageCond'] = \"None\"\n",
    "\n",
    "index = mytest['GarageCond'].isnull()\n",
    "mytest.loc[index,'GarageCond'] = \"None\"\n",
    "\n",
    "index = test['GarageCond'].isnull()\n",
    "test.loc[index,'GarageCond'] = \"None\""
   ]
  },
  {
   "cell_type": "code",
   "execution_count": 1239,
   "metadata": {},
   "outputs": [],
   "source": [
    "index = train['BsmtFinType2'].isnull()\n",
    "train.loc[index,'BsmtFinType2'] = \"None\"\n",
    "\n",
    "index = mytest['BsmtFinType2'].isnull()\n",
    "mytest.loc[index,'BsmtFinType2'] = \"None\"\n",
    "\n",
    "index = test['BsmtFinType2'].isnull()\n",
    "test.loc[index,'BsmtFinType2'] = \"None\""
   ]
  },
  {
   "cell_type": "code",
   "execution_count": 1240,
   "metadata": {},
   "outputs": [],
   "source": [
    "index = train['BsmtExposure'].isnull()\n",
    "train.loc[index,'BsmtExposure'] = \"None\"\n",
    "\n",
    "index = mytest['BsmtExposure'].isnull()\n",
    "mytest.loc[index,'BsmtExposure'] = \"None\"\n",
    "\n",
    "index = test['BsmtExposure'].isnull()\n",
    "test.loc[index,'BsmtExposure'] = \"None\""
   ]
  },
  {
   "cell_type": "code",
   "execution_count": 1241,
   "metadata": {},
   "outputs": [],
   "source": [
    "index = train['BsmtFinType1'].isnull()\n",
    "train.loc[index,'BsmtFinType1'] = \"None\"\n",
    "\n",
    "index = mytest['BsmtFinType1'].isnull()\n",
    "mytest.loc[index,'BsmtFinType1'] = \"None\"\n",
    "\n",
    "index = test['BsmtFinType1'].isnull()\n",
    "test.loc[index,'BsmtFinType1'] = \"None\""
   ]
  },
  {
   "cell_type": "code",
   "execution_count": 1242,
   "metadata": {},
   "outputs": [],
   "source": [
    "index = train['BsmtCond'].isnull()\n",
    "train.loc[index,'BsmtCond'] = \"None\"\n",
    "\n",
    "index = mytest['BsmtCond'].isnull()\n",
    "mytest.loc[index,'BsmtCond'] = \"None\"\n",
    "\n",
    "index = test['BsmtCond'].isnull()\n",
    "test.loc[index,'BsmtCond'] = \"None\""
   ]
  },
  {
   "cell_type": "code",
   "execution_count": 1243,
   "metadata": {},
   "outputs": [],
   "source": [
    "index = train['BsmtQual'].isnull()\n",
    "train.loc[index,'BsmtQual'] = \"None\"\n",
    "\n",
    "index = mytest['BsmtQual'].isnull()\n",
    "mytest.loc[index,'BsmtQual'] = \"None\"\n",
    "\n",
    "index = test['BsmtQual'].isnull()\n",
    "test.loc[index,'BsmtQual'] = \"None\""
   ]
  },
  {
   "cell_type": "code",
   "execution_count": 1244,
   "metadata": {},
   "outputs": [],
   "source": [
    "mean_value = np.mean(train[train['MasVnrArea'].notnull()]['MasVnrArea'])\n",
    "train.loc[train['MasVnrArea'].isnull(),'MasVnrArea'] = mean_value\n",
    "\n",
    "mytest.loc[mytest['MasVnrArea'].isnull(),'MasVnrArea'] = mean_value\n",
    "\n",
    "test.loc[test['MasVnrArea'].isnull(),'MasVnrArea'] = mean_value"
   ]
  },
  {
   "cell_type": "code",
   "execution_count": 1245,
   "metadata": {},
   "outputs": [
    {
     "name": "stdout",
     "output_type": "stream",
     "text": [
      "Counter({'None': 677, 'BrkFace': 366, 'Stone': 106, 'BrkCmn': 13, nan: 6})\n"
     ]
    }
   ],
   "source": [
    "from collections import Counter\n",
    "result = Counter(train['MasVnrType'])\n",
    "print(result)\n",
    "index = train['MasVnrType'].isnull()\n",
    "train.loc[index,'MasVnrType'] = \"None\"\n",
    "\n",
    "index = mytest['MasVnrType'].isnull()\n",
    "mytest.loc[index,'MasVnrType'] = \"None\"\n",
    "\n",
    "index = test['MasVnrType'].isnull()\n",
    "test.loc[index,'MasVnrType'] = \"None\""
   ]
  },
  {
   "cell_type": "code",
   "execution_count": 1246,
   "metadata": {},
   "outputs": [
    {
     "name": "stdout",
     "output_type": "stream",
     "text": [
      "Counter({'SBrkr': 1071, 'FuseA': 69, 'FuseF': 24, 'FuseP': 3, nan: 1})\n"
     ]
    }
   ],
   "source": [
    "from collections import Counter\n",
    "result = Counter(train['Electrical'])\n",
    "print(result)"
   ]
  },
  {
   "cell_type": "code",
   "execution_count": 1247,
   "metadata": {},
   "outputs": [],
   "source": [
    "index = train['Electrical'].isnull()\n",
    "train.loc[index,'Electrical'] = 'SBrkr'\n",
    "\n",
    "index = mytest['Electrical'].isnull()\n",
    "mytest.loc[index,'Electrical'] = \"SBrkr\"\n",
    "\n",
    "index = test['Electrical'].isnull()\n",
    "test.loc[index,'Electrical'] = 'SBrkr'"
   ]
  },
  {
   "cell_type": "code",
   "execution_count": 1248,
   "metadata": {},
   "outputs": [
    {
     "data": {
      "text/plain": [
       "0"
      ]
     },
     "execution_count": 1248,
     "metadata": {},
     "output_type": "execute_result"
    }
   ],
   "source": [
    "sum(train.isnull().sum() )"
   ]
  },
  {
   "cell_type": "code",
   "execution_count": 1249,
   "metadata": {},
   "outputs": [
    {
     "data": {
      "text/plain": [
       "0"
      ]
     },
     "execution_count": 1249,
     "metadata": {},
     "output_type": "execute_result"
    }
   ],
   "source": [
    "sum(mytest.isnull().sum() )"
   ]
  },
  {
   "cell_type": "code",
   "execution_count": 1250,
   "metadata": {},
   "outputs": [
    {
     "data": {
      "text/html": [
       "<div>\n",
       "<style scoped>\n",
       "    .dataframe tbody tr th:only-of-type {\n",
       "        vertical-align: middle;\n",
       "    }\n",
       "\n",
       "    .dataframe tbody tr th {\n",
       "        vertical-align: top;\n",
       "    }\n",
       "\n",
       "    .dataframe thead th {\n",
       "        text-align: right;\n",
       "    }\n",
       "</style>\n",
       "<table border=\"1\" class=\"dataframe\">\n",
       "  <thead>\n",
       "    <tr style=\"text-align: right;\">\n",
       "      <th></th>\n",
       "      <th>column_name</th>\n",
       "      <th>missing_count</th>\n",
       "      <th>missing_percentage</th>\n",
       "    </tr>\n",
       "  </thead>\n",
       "  <tbody>\n",
       "    <tr>\n",
       "      <th>22</th>\n",
       "      <td>Exterior1st</td>\n",
       "      <td>1</td>\n",
       "      <td>0.000685</td>\n",
       "    </tr>\n",
       "    <tr>\n",
       "      <th>23</th>\n",
       "      <td>Exterior2nd</td>\n",
       "      <td>1</td>\n",
       "      <td>0.000685</td>\n",
       "    </tr>\n",
       "    <tr>\n",
       "      <th>33</th>\n",
       "      <td>BsmtFinSF1</td>\n",
       "      <td>1</td>\n",
       "      <td>0.000685</td>\n",
       "    </tr>\n",
       "    <tr>\n",
       "      <th>35</th>\n",
       "      <td>BsmtFinSF2</td>\n",
       "      <td>1</td>\n",
       "      <td>0.000685</td>\n",
       "    </tr>\n",
       "    <tr>\n",
       "      <th>36</th>\n",
       "      <td>BsmtUnfSF</td>\n",
       "      <td>1</td>\n",
       "      <td>0.000685</td>\n",
       "    </tr>\n",
       "    <tr>\n",
       "      <th>37</th>\n",
       "      <td>TotalBsmtSF</td>\n",
       "      <td>1</td>\n",
       "      <td>0.000685</td>\n",
       "    </tr>\n",
       "    <tr>\n",
       "      <th>52</th>\n",
       "      <td>KitchenQual</td>\n",
       "      <td>1</td>\n",
       "      <td>0.000685</td>\n",
       "    </tr>\n",
       "    <tr>\n",
       "      <th>60</th>\n",
       "      <td>GarageCars</td>\n",
       "      <td>1</td>\n",
       "      <td>0.000685</td>\n",
       "    </tr>\n",
       "    <tr>\n",
       "      <th>61</th>\n",
       "      <td>GarageArea</td>\n",
       "      <td>1</td>\n",
       "      <td>0.000685</td>\n",
       "    </tr>\n",
       "    <tr>\n",
       "      <th>77</th>\n",
       "      <td>SaleType</td>\n",
       "      <td>1</td>\n",
       "      <td>0.000685</td>\n",
       "    </tr>\n",
       "    <tr>\n",
       "      <th>8</th>\n",
       "      <td>Utilities</td>\n",
       "      <td>2</td>\n",
       "      <td>0.001371</td>\n",
       "    </tr>\n",
       "    <tr>\n",
       "      <th>46</th>\n",
       "      <td>BsmtFullBath</td>\n",
       "      <td>2</td>\n",
       "      <td>0.001371</td>\n",
       "    </tr>\n",
       "    <tr>\n",
       "      <th>47</th>\n",
       "      <td>BsmtHalfBath</td>\n",
       "      <td>2</td>\n",
       "      <td>0.001371</td>\n",
       "    </tr>\n",
       "    <tr>\n",
       "      <th>54</th>\n",
       "      <td>Functional</td>\n",
       "      <td>2</td>\n",
       "      <td>0.001371</td>\n",
       "    </tr>\n",
       "    <tr>\n",
       "      <th>1</th>\n",
       "      <td>MSZoning</td>\n",
       "      <td>4</td>\n",
       "      <td>0.002742</td>\n",
       "    </tr>\n",
       "  </tbody>\n",
       "</table>\n",
       "</div>"
      ],
      "text/plain": [
       "     column_name  missing_count  missing_percentage\n",
       "22   Exterior1st              1            0.000685\n",
       "23   Exterior2nd              1            0.000685\n",
       "33    BsmtFinSF1              1            0.000685\n",
       "35    BsmtFinSF2              1            0.000685\n",
       "36     BsmtUnfSF              1            0.000685\n",
       "37   TotalBsmtSF              1            0.000685\n",
       "52   KitchenQual              1            0.000685\n",
       "60    GarageCars              1            0.000685\n",
       "61    GarageArea              1            0.000685\n",
       "77      SaleType              1            0.000685\n",
       "8      Utilities              2            0.001371\n",
       "46  BsmtFullBath              2            0.001371\n",
       "47  BsmtHalfBath              2            0.001371\n",
       "54    Functional              2            0.001371\n",
       "1       MSZoning              4            0.002742"
      ]
     },
     "execution_count": 1250,
     "metadata": {},
     "output_type": "execute_result"
    }
   ],
   "source": [
    "missing_df2 = test.isnull().sum().reset_index()\n",
    "missing_df2.columns = ['column_name', 'missing_count']\n",
    "missing_df2 = missing_df2.loc[missing_df2['missing_count']>0]\n",
    "missing_df2 = missing_df2.sort_values(by = 'missing_count')\n",
    "missing_df2['missing_percentage'] = missing_df2['missing_count']/test.shape[0]\n",
    "missing_df2"
   ]
  },
  {
   "cell_type": "code",
   "execution_count": 1251,
   "metadata": {},
   "outputs": [
    {
     "name": "stdout",
     "output_type": "stream",
     "text": [
      "Counter({'VinylSd': 420, 'HdBoard': 176, 'MetalSd': 173, 'Wd Sdng': 171, 'Plywood': 81, 'CemntBd': 45, 'BrkFace': 40, 'Stucco': 21, 'WdShing': 19, 'AsbShng': 16, 'BrkComm': 2, 'ImStucc': 1, 'CBlock': 1, 'AsphShn': 1, 'Stone': 1})\n"
     ]
    }
   ],
   "source": [
    "from collections import Counter\n",
    "result = Counter(train['Exterior1st'])\n",
    "print(result)"
   ]
  },
  {
   "cell_type": "code",
   "execution_count": 1252,
   "metadata": {},
   "outputs": [],
   "source": [
    "index = test['Exterior1st'].isnull()\n",
    "test.loc[index,'Exterior1st'] = 'VinylSd'"
   ]
  },
  {
   "cell_type": "code",
   "execution_count": 1253,
   "metadata": {},
   "outputs": [
    {
     "name": "stdout",
     "output_type": "stream",
     "text": [
      "Counter({'VinylSd': 410, 'MetalSd': 165, 'Wd Sdng': 165, 'HdBoard': 163, 'Plywood': 112, 'CmentBd': 44, 'Wd Shng': 34, 'Stucco': 23, 'AsbShng': 17, 'BrkFace': 15, 'ImStucc': 6, 'Brk Cmn': 6, 'AsphShn': 3, 'Stone': 3, 'Other': 1, 'CBlock': 1})\n"
     ]
    }
   ],
   "source": [
    "result = Counter(train['Exterior2nd'])\n",
    "print(result)"
   ]
  },
  {
   "cell_type": "code",
   "execution_count": 1254,
   "metadata": {},
   "outputs": [],
   "source": [
    "index = test['Exterior2nd'].isnull()\n",
    "test.loc[index,'Exterior2nd'] = 'VinylSd'"
   ]
  },
  {
   "cell_type": "code",
   "execution_count": 1255,
   "metadata": {},
   "outputs": [],
   "source": [
    "mean_value = np.mean(train[train['BsmtFinSF1'].notnull()]['BsmtFinSF1'])\n",
    "\n",
    "test.loc[test['BsmtFinSF1'].isnull(),'BsmtFinSF1'] = mean_value\n",
    "\n",
    "mean_value = np.mean(train[train['BsmtFinSF2'].notnull()]['BsmtFinSF2'])\n",
    "\n",
    "test.loc[test['BsmtFinSF2'].isnull(),'BsmtFinSF2'] = mean_value"
   ]
  },
  {
   "cell_type": "code",
   "execution_count": 1256,
   "metadata": {},
   "outputs": [],
   "source": [
    "mean_value = np.mean(train[train['BsmtUnfSF'].notnull()]['BsmtUnfSF'])\n",
    "\n",
    "test.loc[test['BsmtUnfSF'].isnull(),'BsmtUnfSF'] = mean_value"
   ]
  },
  {
   "cell_type": "code",
   "execution_count": 1257,
   "metadata": {},
   "outputs": [],
   "source": [
    "index = test['TotalBsmtSF'].isnull()\n",
    "test.loc[index,'TotalBsmtSF'] = test.loc[index,'BsmtFinSF1']+ test.loc[index,'BsmtFinSF2'] + test.loc[index,'BsmtUnfSF']"
   ]
  },
  {
   "cell_type": "code",
   "execution_count": 1258,
   "metadata": {},
   "outputs": [
    {
     "name": "stdout",
     "output_type": "stream",
     "text": [
      "Counter({'TA': 589, 'Gd': 470, 'Ex': 77, 'Fa': 32})\n"
     ]
    }
   ],
   "source": [
    "result = Counter(train['KitchenQual'])\n",
    "print(result)"
   ]
  },
  {
   "cell_type": "code",
   "execution_count": 1259,
   "metadata": {},
   "outputs": [],
   "source": [
    "index = test['KitchenQual'].isnull()\n",
    "test.loc[index,'KitchenQual'] = 'TA'"
   ]
  },
  {
   "cell_type": "code",
   "execution_count": 1260,
   "metadata": {},
   "outputs": [],
   "source": [
    "median = np.median(train[train['GarageCars'].notnull()]['GarageCars'])\n",
    "test.loc[test['GarageCars'].isnull(),'GarageCars'] = median\n",
    "\n",
    "mean_value = np.mean(train[train['GarageArea'].notnull()]['GarageArea'])\n",
    "test.loc[test['GarageArea'].isnull(),'GarageArea'] = mean_value"
   ]
  },
  {
   "cell_type": "code",
   "execution_count": 1261,
   "metadata": {},
   "outputs": [
    {
     "name": "stdout",
     "output_type": "stream",
     "text": [
      "Counter({'WD': 1012, 'New': 97, 'COD': 36, 'ConLD': 7, 'ConLI': 4, 'ConLw': 4, 'CWD': 4, 'Oth': 2, 'Con': 2})\n"
     ]
    }
   ],
   "source": [
    "result = Counter(train['SaleType'])\n",
    "print(result)"
   ]
  },
  {
   "cell_type": "code",
   "execution_count": 1262,
   "metadata": {},
   "outputs": [],
   "source": [
    "index = test['SaleType'].isnull()\n",
    "test.loc[index,'SaleType'] = 'WD'"
   ]
  },
  {
   "cell_type": "code",
   "execution_count": 1263,
   "metadata": {},
   "outputs": [
    {
     "name": "stdout",
     "output_type": "stream",
     "text": [
      "Counter({'AllPub': 1167, 'NoSeWa': 1})\n"
     ]
    }
   ],
   "source": [
    "result = Counter(train['Utilities'])\n",
    "print(result)"
   ]
  },
  {
   "cell_type": "code",
   "execution_count": 1264,
   "metadata": {},
   "outputs": [],
   "source": [
    "index = test['Utilities'].isnull()\n",
    "test.loc[index,'Utilities'] = 'AllPub'"
   ]
  },
  {
   "cell_type": "code",
   "execution_count": 1265,
   "metadata": {},
   "outputs": [],
   "source": [
    "median = np.median(train[train['BsmtFullBath'].notnull()]['BsmtFullBath'])\n",
    "test.loc[test['BsmtFullBath'].isnull(),'BsmtFullBath'] = median"
   ]
  },
  {
   "cell_type": "code",
   "execution_count": 1266,
   "metadata": {},
   "outputs": [],
   "source": [
    "median = np.median(train[train['BsmtHalfBath'].notnull()]['BsmtHalfBath'])\n",
    "test.loc[test['BsmtHalfBath'].isnull(),'BsmtHalfBath'] = median"
   ]
  },
  {
   "cell_type": "code",
   "execution_count": 1267,
   "metadata": {},
   "outputs": [
    {
     "name": "stdout",
     "output_type": "stream",
     "text": [
      "Counter({'Typ': 1084, 'Min2': 29, 'Min1': 28, 'Mod': 13, 'Maj1': 9, 'Maj2': 4, 'Sev': 1})\n"
     ]
    }
   ],
   "source": [
    "result = Counter(train['Functional'])\n",
    "print(result)"
   ]
  },
  {
   "cell_type": "code",
   "execution_count": 1268,
   "metadata": {},
   "outputs": [],
   "source": [
    "index = test['Functional'].isnull()\n",
    "test.loc[index,'Functional'] = 'Typ'"
   ]
  },
  {
   "cell_type": "code",
   "execution_count": 1269,
   "metadata": {},
   "outputs": [
    {
     "name": "stdout",
     "output_type": "stream",
     "text": [
      "Counter({'RL': 924, 'RM': 172, 'FV': 53, 'RH': 15, 'C (all)': 4})\n"
     ]
    }
   ],
   "source": [
    "result = Counter(train['MSZoning'])\n",
    "print(result)"
   ]
  },
  {
   "cell_type": "code",
   "execution_count": 1270,
   "metadata": {},
   "outputs": [],
   "source": [
    "index = test['MSZoning'].isnull()\n",
    "test.loc[index,'MSZoning'] = 'RL'"
   ]
  },
  {
   "cell_type": "code",
   "execution_count": 1271,
   "metadata": {},
   "outputs": [
    {
     "data": {
      "text/plain": [
       "0"
      ]
     },
     "execution_count": 1271,
     "metadata": {},
     "output_type": "execute_result"
    }
   ],
   "source": [
    "sum(test.isnull().sum() )"
   ]
  },
  {
   "cell_type": "code",
   "execution_count": 1272,
   "metadata": {},
   "outputs": [
    {
     "data": {
      "text/plain": [
       "<matplotlib.axes._subplots.AxesSubplot at 0x1a21b60320>"
      ]
     },
     "execution_count": 1272,
     "metadata": {},
     "output_type": "execute_result"
    },
    {
     "data": {
      "image/png": "[encoded data removed]",
      "text/plain": [
       "<Figure size 720x720 with 1 Axes>"
      ]
     },
     "metadata": {},
     "output_type": "display_data"
    }
   ],
   "source": [
    "missing_df.plot(x='column_name', y='missing_percentage', kind='barh', figsize=(10,10), logx=False ,color='teal')\n",
    "#plt.show()"
   ]
  },
  {
   "cell_type": "code",
   "execution_count": 1273,
   "metadata": {},
   "outputs": [],
   "source": [
    "num_feas = train.dtypes[train.dtypes != 'object'].index\n",
    "cat_feas = train.dtypes[train.dtypes == 'object'].index"
   ]
  },
  {
   "cell_type": "code",
   "execution_count": 1274,
   "metadata": {
    "scrolled": false
   },
   "outputs": [
    {
     "data": {
      "text/plain": [
       "Index(['MSSubClass', 'LotFrontage', 'LotArea', 'OverallQual', 'OverallCond',\n",
       "       'YearBuilt', 'YearRemodAdd', 'MasVnrArea', 'BsmtFinSF1', 'BsmtFinSF2',\n",
       "       'BsmtUnfSF', 'TotalBsmtSF', '1stFlrSF', '2ndFlrSF', 'LowQualFinSF',\n",
       "       'GrLivArea', 'BsmtFullBath', 'BsmtHalfBath', 'FullBath', 'HalfBath',\n",
       "       'BedroomAbvGr', 'KitchenAbvGr', 'TotRmsAbvGrd', 'Fireplaces',\n",
       "       'GarageYrBlt', 'GarageCars', 'GarageArea', 'WoodDeckSF', 'OpenPorchSF',\n",
       "       'EnclosedPorch', '3SsnPorch', 'ScreenPorch', 'PoolArea', 'MiscVal',\n",
       "       'MoSold', 'YrSold'],\n",
       "      dtype='object')"
      ]
     },
     "execution_count": 1274,
     "metadata": {},
     "output_type": "execute_result"
    }
   ],
   "source": [
    "num_feas"
   ]
  },
  {
   "cell_type": "code",
   "execution_count": 1275,
   "metadata": {},
   "outputs": [
    {
     "data": {
      "text/plain": [
       "36"
      ]
     },
     "execution_count": 1275,
     "metadata": {},
     "output_type": "execute_result"
    }
   ],
   "source": [
    "len(num_feas)"
   ]
  },
  {
   "cell_type": "code",
   "execution_count": 1276,
   "metadata": {
    "scrolled": false
   },
   "outputs": [
    {
     "data": {
      "text/plain": [
       "Index(['MSZoning', 'Street', 'Alley', 'LotShape', 'LandContour', 'Utilities',\n",
       "       'LotConfig', 'LandSlope', 'Neighborhood', 'Condition1', 'Condition2',\n",
       "       'BldgType', 'HouseStyle', 'RoofStyle', 'RoofMatl', 'Exterior1st',\n",
       "       'Exterior2nd', 'MasVnrType', 'ExterQual', 'ExterCond', 'Foundation',\n",
       "       'BsmtQual', 'BsmtCond', 'BsmtExposure', 'BsmtFinType1', 'BsmtFinType2',\n",
       "       'Heating', 'HeatingQC', 'CentralAir', 'Electrical', 'KitchenQual',\n",
       "       'Functional', 'FireplaceQu', 'GarageType', 'GarageFinish', 'GarageQual',\n",
       "       'GarageCond', 'PavedDrive', 'PoolQC', 'Fence', 'MiscFeature',\n",
       "       'SaleType', 'SaleCondition'],\n",
       "      dtype='object')"
      ]
     },
     "execution_count": 1276,
     "metadata": {},
     "output_type": "execute_result"
    }
   ],
   "source": [
    "cat_feas"
   ]
  },
  {
   "cell_type": "code",
   "execution_count": 1277,
   "metadata": {},
   "outputs": [
    {
     "data": {
      "text/plain": [
       "43"
      ]
     },
     "execution_count": 1277,
     "metadata": {},
     "output_type": "execute_result"
    }
   ],
   "source": [
    "len(cat_feas)"
   ]
  },
  {
   "cell_type": "code",
   "execution_count": 1887,
   "metadata": {},
   "outputs": [
    {
     "data": {
      "text/plain": [
       "<matplotlib.axes._subplots.AxesSubplot at 0x1a365f4e48>"
      ]
     },
     "execution_count": 1887,
     "metadata": {},
     "output_type": "execute_result"
    },
    {
     "data": {
      "image/png": "[encoded data removed]",
      "text/plain": [
       "<Figure size 648x432 with 2 Axes>"
      ]
     },
     "metadata": {},
     "output_type": "display_data"
    }
   ],
   "source": [
    "corrmat = train.corr()\n",
    "f, ax = plt.subplots(figsize=(9,6))\n",
    "sns.heatmap(corrmat, linewidths=.2)"
   ]
  },
  {
   "cell_type": "code",
   "execution_count": 1279,
   "metadata": {},
   "outputs": [],
   "source": [
    "correlation = corrmat.abs()"
   ]
  },
  {
   "cell_type": "code",
   "execution_count": 1280,
   "metadata": {},
   "outputs": [],
   "source": [
    "upper = correlation.where(np.triu(np.ones(correlation.shape),k=1).astype(np.bool))"
   ]
  },
  {
   "cell_type": "code",
   "execution_count": 1281,
   "metadata": {},
   "outputs": [],
   "source": [
    "to_drop = [col for col in upper.columns if any(upper[col] > 0.9)]"
   ]
  },
  {
   "cell_type": "code",
   "execution_count": 1282,
   "metadata": {},
   "outputs": [
    {
     "data": {
      "text/plain": [
       "[]"
      ]
     },
     "execution_count": 1282,
     "metadata": {},
     "output_type": "execute_result"
    }
   ],
   "source": [
    "to_drop"
   ]
  },
  {
   "cell_type": "markdown",
   "metadata": {},
   "source": [
    "we do not have too many features and there are no features are too closely related. So I decide not to delete any numerical feature."
   ]
  },
  {
   "cell_type": "code",
   "execution_count": 1339,
   "metadata": {},
   "outputs": [],
   "source": [
    "from sklearn.preprocessing import OneHotEncoder\n",
    "from sklearn.preprocessing import StandardScaler\n",
    "from sklearn.preprocessing import LabelEncoder"
   ]
  },
  {
   "cell_type": "code",
   "execution_count": 1340,
   "metadata": {},
   "outputs": [
    {
     "data": {
      "text/plain": [
       "(1460, 79)"
      ]
     },
     "execution_count": 1340,
     "metadata": {},
     "output_type": "execute_result"
    }
   ],
   "source": [
    "all_train = pd.concat([train, mytest], axis=0)\n",
    "all_train.shape"
   ]
  },
  {
   "cell_type": "code",
   "execution_count": null,
   "metadata": {},
   "outputs": [],
   "source": []
  },
  {
   "cell_type": "code",
   "execution_count": 1469,
   "metadata": {},
   "outputs": [],
   "source": [
    "train_cat_sparse = pd.DataFrame(data = None)\n",
    "test_cat_sparse = pd.DataFrame(data = None)\n",
    "for cat_fea in cat_feas:\n",
    "    le_cat = LabelEncoder().fit(all_train[cat_fea].astype(str))\n",
    "    train_cat_sparse[cat_fea] = le_cat.transform(all_train[cat_fea].astype(str))\n",
    "    test_cat_sparse[cat_fea] = le_cat.transform(test[cat_fea].astype(str))"
   ]
  },
  {
   "cell_type": "code",
   "execution_count": 1470,
   "metadata": {
    "scrolled": false
   },
   "outputs": [
    {
     "data": {
      "text/html": [
       "<div>\n",
       "<style scoped>\n",
       "    .dataframe tbody tr th:only-of-type {\n",
       "        vertical-align: middle;\n",
       "    }\n",
       "\n",
       "    .dataframe tbody tr th {\n",
       "        vertical-align: top;\n",
       "    }\n",
       "\n",
       "    .dataframe thead th {\n",
       "        text-align: right;\n",
       "    }\n",
       "</style>\n",
       "<table border=\"1\" class=\"dataframe\">\n",
       "  <thead>\n",
       "    <tr style=\"text-align: right;\">\n",
       "      <th></th>\n",
       "      <th>MSZoning</th>\n",
       "      <th>Street</th>\n",
       "      <th>Alley</th>\n",
       "      <th>LotShape</th>\n",
       "      <th>LandContour</th>\n",
       "      <th>Utilities</th>\n",
       "      <th>LotConfig</th>\n",
       "      <th>LandSlope</th>\n",
       "      <th>Neighborhood</th>\n",
       "      <th>Condition1</th>\n",
       "      <th>...</th>\n",
       "      <th>GarageType</th>\n",
       "      <th>GarageFinish</th>\n",
       "      <th>GarageQual</th>\n",
       "      <th>GarageCond</th>\n",
       "      <th>PavedDrive</th>\n",
       "      <th>PoolQC</th>\n",
       "      <th>Fence</th>\n",
       "      <th>MiscFeature</th>\n",
       "      <th>SaleType</th>\n",
       "      <th>SaleCondition</th>\n",
       "    </tr>\n",
       "  </thead>\n",
       "  <tbody>\n",
       "    <tr>\n",
       "      <th>0</th>\n",
       "      <td>3</td>\n",
       "      <td>1</td>\n",
       "      <td>1</td>\n",
       "      <td>3</td>\n",
       "      <td>3</td>\n",
       "      <td>0</td>\n",
       "      <td>4</td>\n",
       "      <td>0</td>\n",
       "      <td>12</td>\n",
       "      <td>2</td>\n",
       "      <td>...</td>\n",
       "      <td>1</td>\n",
       "      <td>2</td>\n",
       "      <td>5</td>\n",
       "      <td>5</td>\n",
       "      <td>2</td>\n",
       "      <td>3</td>\n",
       "      <td>4</td>\n",
       "      <td>1</td>\n",
       "      <td>8</td>\n",
       "      <td>4</td>\n",
       "    </tr>\n",
       "    <tr>\n",
       "      <th>1</th>\n",
       "      <td>3</td>\n",
       "      <td>1</td>\n",
       "      <td>1</td>\n",
       "      <td>0</td>\n",
       "      <td>3</td>\n",
       "      <td>0</td>\n",
       "      <td>4</td>\n",
       "      <td>0</td>\n",
       "      <td>8</td>\n",
       "      <td>2</td>\n",
       "      <td>...</td>\n",
       "      <td>1</td>\n",
       "      <td>2</td>\n",
       "      <td>5</td>\n",
       "      <td>5</td>\n",
       "      <td>2</td>\n",
       "      <td>3</td>\n",
       "      <td>4</td>\n",
       "      <td>1</td>\n",
       "      <td>8</td>\n",
       "      <td>4</td>\n",
       "    </tr>\n",
       "    <tr>\n",
       "      <th>2</th>\n",
       "      <td>3</td>\n",
       "      <td>1</td>\n",
       "      <td>1</td>\n",
       "      <td>3</td>\n",
       "      <td>3</td>\n",
       "      <td>0</td>\n",
       "      <td>4</td>\n",
       "      <td>0</td>\n",
       "      <td>7</td>\n",
       "      <td>1</td>\n",
       "      <td>...</td>\n",
       "      <td>6</td>\n",
       "      <td>1</td>\n",
       "      <td>3</td>\n",
       "      <td>3</td>\n",
       "      <td>1</td>\n",
       "      <td>3</td>\n",
       "      <td>2</td>\n",
       "      <td>1</td>\n",
       "      <td>8</td>\n",
       "      <td>4</td>\n",
       "    </tr>\n",
       "    <tr>\n",
       "      <th>3</th>\n",
       "      <td>3</td>\n",
       "      <td>1</td>\n",
       "      <td>1</td>\n",
       "      <td>3</td>\n",
       "      <td>3</td>\n",
       "      <td>0</td>\n",
       "      <td>0</td>\n",
       "      <td>0</td>\n",
       "      <td>18</td>\n",
       "      <td>1</td>\n",
       "      <td>...</td>\n",
       "      <td>5</td>\n",
       "      <td>3</td>\n",
       "      <td>5</td>\n",
       "      <td>5</td>\n",
       "      <td>2</td>\n",
       "      <td>3</td>\n",
       "      <td>2</td>\n",
       "      <td>1</td>\n",
       "      <td>8</td>\n",
       "      <td>4</td>\n",
       "    </tr>\n",
       "    <tr>\n",
       "      <th>4</th>\n",
       "      <td>3</td>\n",
       "      <td>1</td>\n",
       "      <td>2</td>\n",
       "      <td>3</td>\n",
       "      <td>3</td>\n",
       "      <td>0</td>\n",
       "      <td>4</td>\n",
       "      <td>0</td>\n",
       "      <td>18</td>\n",
       "      <td>2</td>\n",
       "      <td>...</td>\n",
       "      <td>5</td>\n",
       "      <td>3</td>\n",
       "      <td>5</td>\n",
       "      <td>5</td>\n",
       "      <td>2</td>\n",
       "      <td>3</td>\n",
       "      <td>4</td>\n",
       "      <td>1</td>\n",
       "      <td>8</td>\n",
       "      <td>4</td>\n",
       "    </tr>\n",
       "  </tbody>\n",
       "</table>\n",
       "<p>5 rows × 43 columns</p>\n",
       "</div>"
      ],
      "text/plain": [
       "   MSZoning  Street  Alley  LotShape  LandContour  Utilities  LotConfig  \\\n",
       "0         3       1      1         3            3          0          4   \n",
       "1         3       1      1         0            3          0          4   \n",
       "2         3       1      1         3            3          0          4   \n",
       "3         3       1      1         3            3          0          0   \n",
       "4         3       1      2         3            3          0          4   \n",
       "\n",
       "   LandSlope  Neighborhood  Condition1      ...        GarageType  \\\n",
       "0          0            12           2      ...                 1   \n",
       "1          0             8           2      ...                 1   \n",
       "2          0             7           1      ...                 6   \n",
       "3          0            18           1      ...                 5   \n",
       "4          0            18           2      ...                 5   \n",
       "\n",
       "   GarageFinish  GarageQual  GarageCond  PavedDrive  PoolQC  Fence  \\\n",
       "0             2           5           5           2       3      4   \n",
       "1             2           5           5           2       3      4   \n",
       "2             1           3           3           1       3      2   \n",
       "3             3           5           5           2       3      2   \n",
       "4             3           5           5           2       3      4   \n",
       "\n",
       "   MiscFeature  SaleType  SaleCondition  \n",
       "0            1         8              4  \n",
       "1            1         8              4  \n",
       "2            1         8              4  \n",
       "3            1         8              4  \n",
       "4            1         8              4  \n",
       "\n",
       "[5 rows x 43 columns]"
      ]
     },
     "execution_count": 1470,
     "metadata": {},
     "output_type": "execute_result"
    }
   ],
   "source": [
    "train_cat_sparse.head()"
   ]
  },
  {
   "cell_type": "code",
   "execution_count": 1471,
   "metadata": {},
   "outputs": [
    {
     "data": {
      "text/plain": [
       "(1460, 43)"
      ]
     },
     "execution_count": 1471,
     "metadata": {},
     "output_type": "execute_result"
    }
   ],
   "source": [
    "train_cat_sparse.shape"
   ]
  },
  {
   "cell_type": "code",
   "execution_count": 1472,
   "metadata": {},
   "outputs": [],
   "source": [
    "ohe = OneHotEncoder(sparse=False).fit(train_cat_sparse)\n",
    "alltrain_cat = ohe.transform(train_cat_sparse)\n",
    "test_cat = ohe.transform(test_cat_sparse)"
   ]
  },
  {
   "cell_type": "code",
   "execution_count": 1473,
   "metadata": {},
   "outputs": [],
   "source": [
    "alltrain_cat = pd.DataFrame(alltrain_cat)\n",
    "test_cat = pd.DataFrame(test_cat)\n"
   ]
  },
  {
   "cell_type": "code",
   "execution_count": 1474,
   "metadata": {},
   "outputs": [
    {
     "data": {
      "text/html": [
       "<div>\n",
       "<style scoped>\n",
       "    .dataframe tbody tr th:only-of-type {\n",
       "        vertical-align: middle;\n",
       "    }\n",
       "\n",
       "    .dataframe tbody tr th {\n",
       "        vertical-align: top;\n",
       "    }\n",
       "\n",
       "    .dataframe thead th {\n",
       "        text-align: right;\n",
       "    }\n",
       "</style>\n",
       "<table border=\"1\" class=\"dataframe\">\n",
       "  <thead>\n",
       "    <tr style=\"text-align: right;\">\n",
       "      <th></th>\n",
       "      <th>0</th>\n",
       "      <th>1</th>\n",
       "      <th>2</th>\n",
       "      <th>3</th>\n",
       "      <th>4</th>\n",
       "      <th>5</th>\n",
       "      <th>6</th>\n",
       "      <th>7</th>\n",
       "      <th>8</th>\n",
       "      <th>9</th>\n",
       "      <th>...</th>\n",
       "      <th>256</th>\n",
       "      <th>257</th>\n",
       "      <th>258</th>\n",
       "      <th>259</th>\n",
       "      <th>260</th>\n",
       "      <th>261</th>\n",
       "      <th>262</th>\n",
       "      <th>263</th>\n",
       "      <th>264</th>\n",
       "      <th>265</th>\n",
       "    </tr>\n",
       "  </thead>\n",
       "  <tbody>\n",
       "    <tr>\n",
       "      <th>0</th>\n",
       "      <td>0.0</td>\n",
       "      <td>0.0</td>\n",
       "      <td>0.0</td>\n",
       "      <td>1.0</td>\n",
       "      <td>0.0</td>\n",
       "      <td>0.0</td>\n",
       "      <td>1.0</td>\n",
       "      <td>0.0</td>\n",
       "      <td>1.0</td>\n",
       "      <td>0.0</td>\n",
       "      <td>...</td>\n",
       "      <td>0.0</td>\n",
       "      <td>0.0</td>\n",
       "      <td>0.0</td>\n",
       "      <td>1.0</td>\n",
       "      <td>0.0</td>\n",
       "      <td>0.0</td>\n",
       "      <td>0.0</td>\n",
       "      <td>0.0</td>\n",
       "      <td>1.0</td>\n",
       "      <td>0.0</td>\n",
       "    </tr>\n",
       "    <tr>\n",
       "      <th>1</th>\n",
       "      <td>0.0</td>\n",
       "      <td>0.0</td>\n",
       "      <td>0.0</td>\n",
       "      <td>1.0</td>\n",
       "      <td>0.0</td>\n",
       "      <td>0.0</td>\n",
       "      <td>1.0</td>\n",
       "      <td>0.0</td>\n",
       "      <td>1.0</td>\n",
       "      <td>0.0</td>\n",
       "      <td>...</td>\n",
       "      <td>0.0</td>\n",
       "      <td>0.0</td>\n",
       "      <td>0.0</td>\n",
       "      <td>1.0</td>\n",
       "      <td>0.0</td>\n",
       "      <td>0.0</td>\n",
       "      <td>0.0</td>\n",
       "      <td>0.0</td>\n",
       "      <td>1.0</td>\n",
       "      <td>0.0</td>\n",
       "    </tr>\n",
       "    <tr>\n",
       "      <th>2</th>\n",
       "      <td>0.0</td>\n",
       "      <td>0.0</td>\n",
       "      <td>0.0</td>\n",
       "      <td>1.0</td>\n",
       "      <td>0.0</td>\n",
       "      <td>0.0</td>\n",
       "      <td>1.0</td>\n",
       "      <td>0.0</td>\n",
       "      <td>1.0</td>\n",
       "      <td>0.0</td>\n",
       "      <td>...</td>\n",
       "      <td>0.0</td>\n",
       "      <td>0.0</td>\n",
       "      <td>0.0</td>\n",
       "      <td>1.0</td>\n",
       "      <td>0.0</td>\n",
       "      <td>0.0</td>\n",
       "      <td>0.0</td>\n",
       "      <td>0.0</td>\n",
       "      <td>1.0</td>\n",
       "      <td>0.0</td>\n",
       "    </tr>\n",
       "    <tr>\n",
       "      <th>3</th>\n",
       "      <td>0.0</td>\n",
       "      <td>0.0</td>\n",
       "      <td>0.0</td>\n",
       "      <td>1.0</td>\n",
       "      <td>0.0</td>\n",
       "      <td>0.0</td>\n",
       "      <td>1.0</td>\n",
       "      <td>0.0</td>\n",
       "      <td>1.0</td>\n",
       "      <td>0.0</td>\n",
       "      <td>...</td>\n",
       "      <td>0.0</td>\n",
       "      <td>0.0</td>\n",
       "      <td>0.0</td>\n",
       "      <td>1.0</td>\n",
       "      <td>0.0</td>\n",
       "      <td>0.0</td>\n",
       "      <td>0.0</td>\n",
       "      <td>0.0</td>\n",
       "      <td>1.0</td>\n",
       "      <td>0.0</td>\n",
       "    </tr>\n",
       "    <tr>\n",
       "      <th>4</th>\n",
       "      <td>0.0</td>\n",
       "      <td>0.0</td>\n",
       "      <td>0.0</td>\n",
       "      <td>1.0</td>\n",
       "      <td>0.0</td>\n",
       "      <td>0.0</td>\n",
       "      <td>1.0</td>\n",
       "      <td>0.0</td>\n",
       "      <td>0.0</td>\n",
       "      <td>1.0</td>\n",
       "      <td>...</td>\n",
       "      <td>0.0</td>\n",
       "      <td>0.0</td>\n",
       "      <td>0.0</td>\n",
       "      <td>1.0</td>\n",
       "      <td>0.0</td>\n",
       "      <td>0.0</td>\n",
       "      <td>0.0</td>\n",
       "      <td>0.0</td>\n",
       "      <td>1.0</td>\n",
       "      <td>0.0</td>\n",
       "    </tr>\n",
       "  </tbody>\n",
       "</table>\n",
       "<p>5 rows × 266 columns</p>\n",
       "</div>"
      ],
      "text/plain": [
       "   0    1    2    3    4    5    6    7    8    9   ...   256  257  258  259  \\\n",
       "0  0.0  0.0  0.0  1.0  0.0  0.0  1.0  0.0  1.0  0.0 ...   0.0  0.0  0.0  1.0   \n",
       "1  0.0  0.0  0.0  1.0  0.0  0.0  1.0  0.0  1.0  0.0 ...   0.0  0.0  0.0  1.0   \n",
       "2  0.0  0.0  0.0  1.0  0.0  0.0  1.0  0.0  1.0  0.0 ...   0.0  0.0  0.0  1.0   \n",
       "3  0.0  0.0  0.0  1.0  0.0  0.0  1.0  0.0  1.0  0.0 ...   0.0  0.0  0.0  1.0   \n",
       "4  0.0  0.0  0.0  1.0  0.0  0.0  1.0  0.0  0.0  1.0 ...   0.0  0.0  0.0  1.0   \n",
       "\n",
       "   260  261  262  263  264  265  \n",
       "0  0.0  0.0  0.0  0.0  1.0  0.0  \n",
       "1  0.0  0.0  0.0  0.0  1.0  0.0  \n",
       "2  0.0  0.0  0.0  0.0  1.0  0.0  \n",
       "3  0.0  0.0  0.0  0.0  1.0  0.0  \n",
       "4  0.0  0.0  0.0  0.0  1.0  0.0  \n",
       "\n",
       "[5 rows x 266 columns]"
      ]
     },
     "execution_count": 1474,
     "metadata": {},
     "output_type": "execute_result"
    }
   ],
   "source": [
    "alltrain_cat.head()"
   ]
  },
  {
   "cell_type": "code",
   "execution_count": 1475,
   "metadata": {},
   "outputs": [
    {
     "data": {
      "text/plain": [
       "266"
      ]
     },
     "execution_count": 1475,
     "metadata": {},
     "output_type": "execute_result"
    }
   ],
   "source": [
    "sum_columns=0\n",
    "for cat_fea in cat_feas:\n",
    "    sum_columns += len(np.unique(train_cat_sparse[cat_fea]))\n",
    "\n",
    "sum_columns"
   ]
  },
  {
   "cell_type": "code",
   "execution_count": 1476,
   "metadata": {},
   "outputs": [
    {
     "data": {
      "text/plain": [
       "(1460, 266)"
      ]
     },
     "execution_count": 1476,
     "metadata": {},
     "output_type": "execute_result"
    }
   ],
   "source": [
    "alltrain_cat.shape"
   ]
  },
  {
   "cell_type": "markdown",
   "metadata": {},
   "source": [
    "266 match each other."
   ]
  },
  {
   "cell_type": "code",
   "execution_count": 1477,
   "metadata": {},
   "outputs": [
    {
     "data": {
      "text/html": [
       "<div>\n",
       "<style scoped>\n",
       "    .dataframe tbody tr th:only-of-type {\n",
       "        vertical-align: middle;\n",
       "    }\n",
       "\n",
       "    .dataframe tbody tr th {\n",
       "        vertical-align: top;\n",
       "    }\n",
       "\n",
       "    .dataframe thead th {\n",
       "        text-align: right;\n",
       "    }\n",
       "</style>\n",
       "<table border=\"1\" class=\"dataframe\">\n",
       "  <thead>\n",
       "    <tr style=\"text-align: right;\">\n",
       "      <th></th>\n",
       "      <th>Skew</th>\n",
       "    </tr>\n",
       "  </thead>\n",
       "  <tbody>\n",
       "    <tr>\n",
       "      <th>PoolArea</th>\n",
       "      <td>13.845526</td>\n",
       "    </tr>\n",
       "    <tr>\n",
       "      <th>3SsnPorch</th>\n",
       "      <td>7.449055</td>\n",
       "    </tr>\n",
       "    <tr>\n",
       "      <th>LowQualFinSF</th>\n",
       "      <td>7.275022</td>\n",
       "    </tr>\n",
       "    <tr>\n",
       "      <th>MiscVal</th>\n",
       "      <td>4.865739</td>\n",
       "    </tr>\n",
       "    <tr>\n",
       "      <th>BsmtHalfBath</th>\n",
       "      <td>3.851735</td>\n",
       "    </tr>\n",
       "  </tbody>\n",
       "</table>\n",
       "</div>"
      ],
      "text/plain": [
       "                   Skew\n",
       "PoolArea      13.845526\n",
       "3SsnPorch      7.449055\n",
       "LowQualFinSF   7.275022\n",
       "MiscVal        4.865739\n",
       "BsmtHalfBath   3.851735"
      ]
     },
     "execution_count": 1477,
     "metadata": {},
     "output_type": "execute_result"
    }
   ],
   "source": [
    "skewed_feas = train[num_feas].apply(lambda x: skew(x)).sort_values(ascending=False)\n",
    "skewness = pd.DataFrame({'Skew' :skewed_feas})\n",
    "skewness.head()"
   ]
  },
  {
   "cell_type": "code",
   "execution_count": 1478,
   "metadata": {},
   "outputs": [
    {
     "name": "stdout",
     "output_type": "stream",
     "text": [
      "number of skewed features: 36\n"
     ]
    }
   ],
   "source": [
    "skewness = skewness[abs(skewness)>0.8]\n",
    "print(\"number of skewed features: {}\".format(skewness.shape[0]))"
   ]
  },
  {
   "cell_type": "code",
   "execution_count": 1479,
   "metadata": {},
   "outputs": [],
   "source": [
    "from scipy.special import boxcox1p\n",
    "skewed = skewness.index\n",
    "lmbda = 0.15\n",
    "for fea in skewed:\n",
    "    train[fea] = boxcox1p(train[fea],lmbda)\n",
    "    mytest[fea] = boxcox1p(mytest[fea],lmbda)\n",
    "    test[fea] = boxcox1p(test[fea],lmbda)"
   ]
  },
  {
   "cell_type": "code",
   "execution_count": 1509,
   "metadata": {},
   "outputs": [],
   "source": [
    "train_cat = alltrain_cat.loc[:1167,:]\n",
    "train_cat = pd.DataFrame(train_cat)"
   ]
  },
  {
   "cell_type": "code",
   "execution_count": 1510,
   "metadata": {
    "scrolled": true
   },
   "outputs": [
    {
     "data": {
      "text/plain": [
       "(1168, 266)"
      ]
     },
     "execution_count": 1510,
     "metadata": {},
     "output_type": "execute_result"
    }
   ],
   "source": [
    "train_cat.shape"
   ]
  },
  {
   "cell_type": "code",
   "execution_count": 1511,
   "metadata": {
    "scrolled": true
   },
   "outputs": [
    {
     "data": {
      "text/plain": [
       "(292, 266)"
      ]
     },
     "execution_count": 1511,
     "metadata": {},
     "output_type": "execute_result"
    }
   ],
   "source": [
    "mytest_cat = alltrain_cat.loc[1168:,:]\n",
    "mytest_cat = pd.DataFrame(mytest_cat)\n",
    "mytest_cat.shape"
   ]
  },
  {
   "cell_type": "code",
   "execution_count": 1512,
   "metadata": {},
   "outputs": [
    {
     "data": {
      "text/plain": [
       "(292, 36)"
      ]
     },
     "execution_count": 1512,
     "metadata": {},
     "output_type": "execute_result"
    }
   ],
   "source": [
    "mytest[num_feas].shape"
   ]
  },
  {
   "cell_type": "code",
   "execution_count": 1517,
   "metadata": {},
   "outputs": [
    {
     "data": {
      "text/plain": [
       "(292, 302)"
      ]
     },
     "execution_count": 1517,
     "metadata": {},
     "output_type": "execute_result"
    }
   ],
   "source": [
    "mytest_cat = mytest_cat.reset_index(drop=True)\n",
    "mytest[num_feas] = mytest[num_feas].reset_index(drop=True)\n",
    "\n",
    "pre_mytest = pd.concat([mytest_cat, mytest[num_feas]], axis=1)\n",
    "pre_mytest.shape"
   ]
  },
  {
   "cell_type": "code",
   "execution_count": 1518,
   "metadata": {},
   "outputs": [
    {
     "data": {
      "text/plain": [
       "(1168, 302)"
      ]
     },
     "execution_count": 1518,
     "metadata": {},
     "output_type": "execute_result"
    }
   ],
   "source": [
    "train_cat = train_cat.reset_index(drop=True)\n",
    "train = train.reset_index(drop=True)\n",
    "\n",
    "pre_train = pd.concat([train_cat, train[num_feas]], axis=1)\n",
    "pre_train.shape"
   ]
  },
  {
   "cell_type": "code",
   "execution_count": 1519,
   "metadata": {},
   "outputs": [
    {
     "data": {
      "text/plain": [
       "(1459, 302)"
      ]
     },
     "execution_count": 1519,
     "metadata": {},
     "output_type": "execute_result"
    }
   ],
   "source": [
    "pre_test = pd.concat([test_cat, test[num_feas]], axis=1)\n",
    "pre_test.shape"
   ]
  },
  {
   "cell_type": "markdown",
   "metadata": {},
   "source": [
    "# Modeling"
   ]
  },
  {
   "cell_type": "code",
   "execution_count": 625,
   "metadata": {},
   "outputs": [],
   "source": [
    "from sklearn.linear_model import LassoCV, RidgeCV\n",
    "from sklearn import metrics"
   ]
  },
  {
   "cell_type": "markdown",
   "metadata": {},
   "source": [
    "## Select the best alpha with RidgeCV"
   ]
  },
  {
   "cell_type": "code",
   "execution_count": 1520,
   "metadata": {
    "scrolled": true
   },
   "outputs": [
    {
     "data": {
      "text/plain": [
       "0.2800503894183631"
      ]
     },
     "execution_count": 1520,
     "metadata": {},
     "output_type": "execute_result"
    }
   ],
   "source": [
    "alphas = np.logspace(-2, 2, num=200)\n",
    "ridgeregcv = RidgeCV(alphas=alphas, normalize=True, scoring='mean_squared_error')\n",
    "ridgeregcv.fit(pre_train,y_train)\n",
    "ridgeregcv.alpha_"
   ]
  },
  {
   "cell_type": "code",
   "execution_count": 1879,
   "metadata": {},
   "outputs": [
    {
     "name": "stdout",
     "output_type": "stream",
     "text": [
      "0.10194072170962595\n"
     ]
    }
   ],
   "source": [
    "y_pred = ridgeregcv.predict(pre_train)\n",
    "print (np.sqrt(metrics.mean_squared_error(y_pred,y_train)))"
   ]
  },
  {
   "cell_type": "code",
   "execution_count": 1522,
   "metadata": {},
   "outputs": [
    {
     "name": "stdout",
     "output_type": "stream",
     "text": [
      "0.13351073574037964\n"
     ]
    }
   ],
   "source": [
    "y_pred = ridgeregcv.predict(pre_mytest)\n",
    "print (np.sqrt(metrics.mean_squared_error(y_pred,y_mytest)))"
   ]
  },
  {
   "cell_type": "markdown",
   "metadata": {},
   "source": [
    "## Select the best alpha with LassoCV"
   ]
  },
  {
   "cell_type": "code",
   "execution_count": 1861,
   "metadata": {},
   "outputs": [
    {
     "data": {
      "text/plain": [
       "0.00016273728152413504"
      ]
     },
     "execution_count": 1861,
     "metadata": {},
     "output_type": "execute_result"
    }
   ],
   "source": [
    "lassoregcv = LassoCV(n_alphas=100, normalize=True, random_state=1)\n",
    "lassoregcv.fit(pre_train,y_train)\n",
    "lassoregcv.alpha_"
   ]
  },
  {
   "cell_type": "code",
   "execution_count": 1880,
   "metadata": {},
   "outputs": [
    {
     "name": "stdout",
     "output_type": "stream",
     "text": [
      "0.10600448380621814\n"
     ]
    }
   ],
   "source": [
    "y_pred = lassoregcv.predict(pre_train)\n",
    "print (np.sqrt(metrics.mean_squared_error(y_pred,y_train)))"
   ]
  },
  {
   "cell_type": "code",
   "execution_count": 1862,
   "metadata": {},
   "outputs": [
    {
     "name": "stdout",
     "output_type": "stream",
     "text": [
      "0.12953192657419912\n"
     ]
    }
   ],
   "source": [
    "y_pred = lassoregcv.predict(pre_mytest)\n",
    "print (np.sqrt(metrics.mean_squared_error(y_pred,y_mytest)))"
   ]
  },
  {
   "cell_type": "markdown",
   "metadata": {},
   "source": [
    "## Xgboost method"
   ]
  },
  {
   "cell_type": "code",
   "execution_count": 1525,
   "metadata": {},
   "outputs": [],
   "source": [
    "from xgboost import XGBRegressor"
   ]
  },
  {
   "cell_type": "code",
   "execution_count": 1526,
   "metadata": {},
   "outputs": [
    {
     "data": {
      "text/plain": [
       "XGBRegressor(base_score=0.5, booster='gbtree', colsample_bylevel=1,\n",
       "       colsample_bytree=1, gamma=0, learning_rate=0.1, max_delta_step=0,\n",
       "       max_depth=3, min_child_weight=1, missing=None, n_estimators=100,\n",
       "       n_jobs=1, nthread=None, objective='reg:linear', random_state=0,\n",
       "       reg_alpha=0, reg_lambda=1, scale_pos_weight=1, seed=None,\n",
       "       silent=True, subsample=1)"
      ]
     },
     "execution_count": 1526,
     "metadata": {},
     "output_type": "execute_result"
    }
   ],
   "source": [
    "xgb_model = XGBRegressor()\n",
    "xgb_model.fit(pre_train,y_train,verbose=False)"
   ]
  },
  {
   "cell_type": "code",
   "execution_count": 1527,
   "metadata": {},
   "outputs": [],
   "source": [
    "predictions = xgb_model.predict(pre_mytest)"
   ]
  },
  {
   "cell_type": "code",
   "execution_count": 1528,
   "metadata": {},
   "outputs": [
    {
     "name": "stdout",
     "output_type": "stream",
     "text": [
      "mean squared error:0.019851889989235188\n"
     ]
    }
   ],
   "source": [
    "print(\"mean squared error:\"+ str(metrics.mean_squared_error(predictions,y_mytest)))"
   ]
  },
  {
   "cell_type": "markdown",
   "metadata": {},
   "source": [
    "### xgboost model tuning"
   ]
  },
  {
   "cell_type": "code",
   "execution_count": 1738,
   "metadata": {},
   "outputs": [],
   "source": [
    "import xgboost as xgb"
   ]
  },
  {
   "cell_type": "code",
   "execution_count": 1739,
   "metadata": {},
   "outputs": [],
   "source": [
    "y_mean = np.mean(y_train)"
   ]
  },
  {
   "cell_type": "code",
   "execution_count": 1742,
   "metadata": {},
   "outputs": [],
   "source": [
    "xgb_params = {\n",
    "    'eta': 0.037,\n",
    "    'max_depth': 5,\n",
    "    'subsample': 0.80,\n",
    "    'objective': 'reg:linear',\n",
    "    'eval_metric': 'rmse',\n",
    "    'lambda': 0.8,   \n",
    "    'alpha': 0.4, \n",
    "    'base_score': y_mean,\n",
    "    'silent': 1\n",
    "}"
   ]
  },
  {
   "cell_type": "code",
   "execution_count": 1743,
   "metadata": {},
   "outputs": [
    {
     "name": "stdout",
     "output_type": "stream",
     "text": [
      "num_boost_rounds=250\n",
      "\n",
      "Training XGBoost ...\n",
      "\n",
      "Predicting with XGBoost ...\n",
      "\n",
      "First XGBoost predictions:\n",
      "           0\n",
      "0  11.840175\n",
      "1  12.753184\n",
      "2  11.658457\n",
      "3  11.970504\n",
      "4  12.662990\n"
     ]
    }
   ],
   "source": [
    "dtrain = xgb.DMatrix(pre_train, y_train)\n",
    "dtest = xgb.DMatrix(pre_mytest)\n",
    "\n",
    "num_boost_rounds = 250\n",
    "print(\"num_boost_rounds=\"+str(num_boost_rounds))\n",
    "\n",
    "# train model\n",
    "print( \"\\nTraining XGBoost ...\")\n",
    "model = xgb.train(dict(xgb_params, silent=1), dtrain, num_boost_round=num_boost_rounds)\n",
    "\n",
    "print( \"\\nPredicting with XGBoost ...\")\n",
    "xgb_predmytest = model.predict(dtest)\n",
    "\n",
    "print( \"\\nFirst XGBoost predictions:\" )\n",
    "print( pd.DataFrame(xgb_predmytest).head() )"
   ]
  },
  {
   "cell_type": "code",
   "execution_count": 1744,
   "metadata": {},
   "outputs": [
    {
     "data": {
      "text/plain": [
       "0.13482845152449696"
      ]
     },
     "execution_count": 1744,
     "metadata": {},
     "output_type": "execute_result"
    }
   ],
   "source": [
    "from sklearn.metrics import mean_squared_error\n",
    "np.sqrt(mean_squared_error(y_mytest, xgb_predmytest))"
   ]
  },
  {
   "cell_type": "code",
   "execution_count": null,
   "metadata": {},
   "outputs": [],
   "source": []
  },
  {
   "cell_type": "code",
   "execution_count": 1790,
   "metadata": {},
   "outputs": [
    {
     "name": "stdout",
     "output_type": "stream",
     "text": [
      "\n",
      " Tuning parameter eta in [0.01, 0.03, 0.04, 0.05, 0.06, 0.07]\n",
      "\n",
      " eta: 0.01\n",
      "[0]\ttrain-rmse:0.387342+0.006153\ttest-rmse:0.386811+0.0250714\n",
      "[500]\ttrain-rmse:0.069167+0.00200752\ttest-rmse:0.133783+0.0174268\n",
      "[1000]\ttrain-rmse:0.050242+0.00121542\ttest-rmse:0.128764+0.0177835\n",
      "[1500]\ttrain-rmse:0.0402838+0.000749708\ttest-rmse:0.12791+0.0178806\n",
      "best_score: 0.127758 of best iteration: 1639.000000 \n",
      "\n",
      " eta: 0.03\n",
      "[0]\ttrain-rmse:0.381264+0.00606122\ttest-rmse:0.381222+0.0247945\n",
      "[500]\ttrain-rmse:0.0404948+0.000875486\ttest-rmse:0.128115+0.0170914\n",
      "best_score: 0.127630 of best iteration: 789.000000 \n",
      "\n",
      " eta: 0.04\n",
      "[0]\ttrain-rmse:0.378235+0.00601529\ttest-rmse:0.378441+0.0246558\n",
      "[500]\ttrain-rmse:0.0345236+0.000526622\ttest-rmse:0.128035+0.0180198\n",
      "[1000]\ttrain-rmse:0.0244026+0.000198471\ttest-rmse:0.127668+0.0180963\n",
      "best_score: 0.127648 of best iteration: 976.000000 \n",
      "\n",
      " eta: 0.05\n",
      "[0]\ttrain-rmse:0.375212+0.00596944\ttest-rmse:0.375669+0.024517\n",
      "[500]\ttrain-rmse:0.0307404+0.000331796\ttest-rmse:0.127449+0.0177778\n",
      "best_score: 0.127337 of best iteration: 594.000000 \n",
      "\n",
      " eta: 0.06\n",
      "[0]\ttrain-rmse:0.372195+0.00592343\ttest-rmse:0.372908+0.0243778\n",
      "[500]\ttrain-rmse:0.027932+0.000308838\ttest-rmse:0.128838+0.0177494\n",
      "best_score: 0.128684 of best iteration: 590.000000 \n",
      "\n",
      " eta: 0.07\n",
      "[0]\ttrain-rmse:0.369185+0.00587737\ttest-rmse:0.370157+0.0242385\n",
      "[500]\ttrain-rmse:0.0258356+0.000256927\ttest-rmse:0.128831+0.0174063\n",
      "best_score: 0.128686 of best iteration: 586.000000 \n",
      "Best eta is 0.05 with a score of 0.127337\n",
      "\n",
      " Tuning parameter max_depth in [2, 3, 4, 5, 6, 7, 8]\n",
      "\n",
      " max_depth: 2\n",
      "[0]\ttrain-rmse:0.378619+0.00596084\ttest-rmse:0.378028+0.0248622\n",
      "[500]\ttrain-rmse:0.0821758+0.00271579\ttest-rmse:0.125223+0.0185727\n",
      "[1000]\ttrain-rmse:0.0667906+0.00197662\ttest-rmse:0.122344+0.0188006\n",
      "[1500]\ttrain-rmse:0.0581896+0.00165351\ttest-rmse:0.121493+0.0186194\n",
      "best_score: 0.121147 of best iteration: 1735.000000 \n",
      "\n",
      " max_depth: 3\n",
      "[0]\ttrain-rmse:0.376929+0.00588916\ttest-rmse:0.376719+0.0247622\n",
      "[500]\ttrain-rmse:0.0597442+0.00152227\ttest-rmse:0.123818+0.0171919\n",
      "[1000]\ttrain-rmse:0.0432632+0.000878953\ttest-rmse:0.122532+0.0172764\n",
      "best_score: 0.122509 of best iteration: 976.000000 \n",
      "\n",
      " max_depth: 4\n",
      "[0]\ttrain-rmse:0.375863+0.00589626\ttest-rmse:0.376017+0.0246522\n",
      "[500]\ttrain-rmse:0.041483+0.00108857\ttest-rmse:0.126052+0.018114\n",
      "best_score: 0.125866 of best iteration: 561.000000 \n",
      "\n",
      " max_depth: 5\n",
      "[0]\ttrain-rmse:0.375212+0.00596944\ttest-rmse:0.375669+0.024517\n",
      "[500]\ttrain-rmse:0.0307404+0.000331796\ttest-rmse:0.127449+0.0177778\n",
      "best_score: 0.127337 of best iteration: 594.000000 \n",
      "\n",
      " max_depth: 6\n",
      "[0]\ttrain-rmse:0.37486+0.00597007\ttest-rmse:0.375607+0.0242421\n",
      "[500]\ttrain-rmse:0.0250894+0.000318139\ttest-rmse:0.1315+0.0176552\n",
      "[1000]\ttrain-rmse:0.0196736+0.000236402\ttest-rmse:0.131136+0.017649\n",
      "best_score: 0.131121 of best iteration: 1033.000000 \n",
      "\n",
      " max_depth: 7\n",
      "[0]\ttrain-rmse:0.374726+0.00598515\ttest-rmse:0.375633+0.0242986\n",
      "[500]\ttrain-rmse:0.0222296+0.000157659\ttest-rmse:0.133027+0.0162227\n",
      "best_score: 0.132896 of best iteration: 592.000000 \n",
      "\n",
      " max_depth: 8\n",
      "[0]\ttrain-rmse:0.374642+0.00599544\ttest-rmse:0.375539+0.0243199\n",
      "[500]\ttrain-rmse:0.0204882+0.000248703\ttest-rmse:0.135629+0.0162733\n",
      "[1000]\ttrain-rmse:0.0172412+0.000153414\ttest-rmse:0.135337+0.0162598\n",
      "best_score: 0.135286 of best iteration: 1163.000000 \n",
      "Best max_depth is 2 with a score of 0.121147\n",
      "\n",
      " Tuning parameter subsample in [0.8, 0.85, 0.9, 0.95, 1]\n",
      "\n",
      " subsample: 0.8\n",
      "[0]\ttrain-rmse:0.378619+0.00596084\ttest-rmse:0.378028+0.0248622\n",
      "[500]\ttrain-rmse:0.0821758+0.00271579\ttest-rmse:0.125223+0.0185727\n",
      "[1000]\ttrain-rmse:0.0667906+0.00197662\ttest-rmse:0.122344+0.0188006\n",
      "[1500]\ttrain-rmse:0.0581896+0.00165351\ttest-rmse:0.121493+0.0186194\n",
      "best_score: 0.121147 of best iteration: 1735.000000 \n",
      "\n",
      " subsample: 0.85\n",
      "[0]\ttrain-rmse:0.378651+0.00596166\ttest-rmse:0.378093+0.0250089\n",
      "[500]\ttrain-rmse:0.0822506+0.00256351\ttest-rmse:0.124297+0.0191912\n",
      "[1000]\ttrain-rmse:0.067056+0.00191608\ttest-rmse:0.121171+0.019151\n",
      "best_score: 0.120591 of best iteration: 1188.000000 \n",
      "\n",
      " subsample: 0.9\n",
      "[0]\ttrain-rmse:0.378638+0.00595401\ttest-rmse:0.378096+0.0250081\n",
      "[500]\ttrain-rmse:0.082633+0.00249814\ttest-rmse:0.124347+0.0194759\n",
      "[1000]\ttrain-rmse:0.067591+0.00173277\ttest-rmse:0.12144+0.0198983\n",
      "best_score: 0.120726 of best iteration: 1280.000000 \n",
      "\n",
      " subsample: 0.95\n",
      "[0]\ttrain-rmse:0.378604+0.00595372\ttest-rmse:0.378094+0.0249537\n",
      "[500]\ttrain-rmse:0.0828936+0.0025723\ttest-rmse:0.125075+0.0191482\n",
      "[1000]\ttrain-rmse:0.0680472+0.00209706\ttest-rmse:0.122203+0.0194588\n",
      "[1500]\ttrain-rmse:0.0596688+0.00182723\ttest-rmse:0.12103+0.0192991\n",
      "best_score: 0.120879 of best iteration: 1644.000000 \n",
      "\n",
      " subsample: 1\n",
      "[0]\ttrain-rmse:0.378677+0.00591091\ttest-rmse:0.37807+0.0249094\n",
      "[500]\ttrain-rmse:0.0842918+0.00300106\ttest-rmse:0.127865+0.01918\n",
      "[1000]\ttrain-rmse:0.070078+0.00214115\ttest-rmse:0.124796+0.0196283\n",
      "[1500]\ttrain-rmse:0.0620976+0.00184013\ttest-rmse:0.123455+0.0197846\n",
      "[2000]\ttrain-rmse:0.0569564+0.00145062\ttest-rmse:0.12304+0.0195934\n",
      "best_score: 0.122930 of best iteration: 2136.000000 \n",
      "Best subsample is 0.85 with a score of 0.120591\n",
      "\n",
      " Tuning parameter min_child_weight in [0.01, 0.1, 0.5, 1, 5, 10]\n",
      "\n",
      " min_child_weight: 0.01\n",
      "[0]\ttrain-rmse:0.378651+0.00596166\ttest-rmse:0.378093+0.0250089\n",
      "[500]\ttrain-rmse:0.0822506+0.00256351\ttest-rmse:0.124297+0.0191912\n",
      "[1000]\ttrain-rmse:0.067056+0.00191608\ttest-rmse:0.121171+0.019151\n",
      "best_score: 0.120591 of best iteration: 1188.000000 \n",
      "\n",
      " min_child_weight: 0.1\n",
      "[0]\ttrain-rmse:0.378651+0.00596166\ttest-rmse:0.378093+0.0250089\n",
      "[500]\ttrain-rmse:0.0822506+0.00256351\ttest-rmse:0.124297+0.0191912\n",
      "[1000]\ttrain-rmse:0.067056+0.00191608\ttest-rmse:0.121171+0.019151\n",
      "best_score: 0.120591 of best iteration: 1188.000000 \n",
      "\n",
      " min_child_weight: 0.5\n",
      "[0]\ttrain-rmse:0.378651+0.00596166\ttest-rmse:0.378093+0.0250089\n",
      "[500]\ttrain-rmse:0.0822506+0.00256351\ttest-rmse:0.124297+0.0191912\n",
      "[1000]\ttrain-rmse:0.067056+0.00191608\ttest-rmse:0.121171+0.019151\n",
      "best_score: 0.120591 of best iteration: 1188.000000 \n",
      "\n",
      " min_child_weight: 1\n",
      "[0]\ttrain-rmse:0.378651+0.00596166\ttest-rmse:0.378093+0.0250089\n",
      "[500]\ttrain-rmse:0.0822506+0.00256351\ttest-rmse:0.124297+0.0191912\n",
      "[1000]\ttrain-rmse:0.067056+0.00191608\ttest-rmse:0.121171+0.019151\n",
      "best_score: 0.120591 of best iteration: 1188.000000 \n",
      "\n",
      " min_child_weight: 5\n",
      "[0]\ttrain-rmse:0.378651+0.00596166\ttest-rmse:0.378093+0.0250089\n",
      "[500]\ttrain-rmse:0.0836868+0.00291909\ttest-rmse:0.125987+0.018721\n",
      "[1000]\ttrain-rmse:0.0681744+0.00209092\ttest-rmse:0.122829+0.0187977\n",
      "best_score: 0.121881 of best iteration: 1424.000000 \n",
      "\n",
      " min_child_weight: 10\n",
      "[0]\ttrain-rmse:0.378651+0.00596166\ttest-rmse:0.378093+0.0250089\n",
      "[500]\ttrain-rmse:0.0863106+0.00339623\ttest-rmse:0.126357+0.0198455\n",
      "best_score: 0.123583 of best iteration: 897.000000 \n",
      "Best min_child_weight is 0.01 with a score of 0.120591\n",
      "\n",
      " Tuning parameter lambda in [0.01, 0.02, 0.03, 0.04, 0.1]\n",
      "\n",
      " lambda: 0.01\n",
      "[0]\ttrain-rmse:0.378594+0.00596199\ttest-rmse:0.378037+0.0250049\n",
      "[500]\ttrain-rmse:0.0808862+0.00229858\ttest-rmse:0.123594+0.0189195\n",
      "[1000]\ttrain-rmse:0.0660194+0.00174592\ttest-rmse:0.120784+0.0187991\n",
      "best_score: 0.120243 of best iteration: 1278.000000 \n",
      "\n",
      " lambda: 0.02\n",
      "[0]\ttrain-rmse:0.378594+0.00596192\ttest-rmse:0.378038+0.0250052\n",
      "[500]\ttrain-rmse:0.080744+0.00229121\ttest-rmse:0.12347+0.0188285\n",
      "[1000]\ttrain-rmse:0.0658482+0.00169905\ttest-rmse:0.120704+0.0187226\n",
      "best_score: 0.120247 of best iteration: 1188.000000 \n",
      "\n",
      " lambda: 0.03\n",
      "[0]\ttrain-rmse:0.378595+0.00596211\ttest-rmse:0.378038+0.025005\n",
      "[500]\ttrain-rmse:0.0807966+0.00226657\ttest-rmse:0.123483+0.0189666\n",
      "[1000]\ttrain-rmse:0.0659732+0.00167652\ttest-rmse:0.120489+0.0189379\n",
      "best_score: 0.119719 of best iteration: 1425.000000 \n",
      "\n",
      " lambda: 0.04\n",
      "[0]\ttrain-rmse:0.378596+0.00596187\ttest-rmse:0.378039+0.0250052\n",
      "[500]\ttrain-rmse:0.0809148+0.00238255\ttest-rmse:0.123594+0.018958\n",
      "[1000]\ttrain-rmse:0.066038+0.00177697\ttest-rmse:0.120607+0.0189255\n",
      "best_score: 0.119946 of best iteration: 1276.000000 \n",
      "\n",
      " lambda: 0.1\n",
      "[0]\ttrain-rmse:0.3786+0.00596192\ttest-rmse:0.378043+0.0250057\n",
      "[500]\ttrain-rmse:0.0812882+0.00250233\ttest-rmse:0.124117+0.0189364\n",
      "[1000]\ttrain-rmse:0.0662926+0.00186062\ttest-rmse:0.121136+0.0189089\n",
      "best_score: 0.120417 of best iteration: 1426.000000 \n",
      "Best lambda is 0.03 with a score of 0.119719\n",
      "\n",
      " Tuning parameter alpha in [0.1, 0.2, 0.3, 0.4, 1]\n",
      "\n",
      " alpha: 0.1\n",
      "[0]\ttrain-rmse:0.378541+0.0059633\ttest-rmse:0.377983+0.0250036\n"
     ]
    },
    {
     "name": "stdout",
     "output_type": "stream",
     "text": [
      "[500]\ttrain-rmse:0.0730508+0.00228701\ttest-rmse:0.123817+0.0174337\n",
      "[1000]\ttrain-rmse:0.054682+0.0015228\ttest-rmse:0.121059+0.017578\n",
      "best_score: 0.120458 of best iteration: 1290.000000 \n",
      "\n",
      " alpha: 0.2\n",
      "[0]\ttrain-rmse:0.378558+0.00596262\ttest-rmse:0.378001+0.0250043\n",
      "[500]\ttrain-rmse:0.0756376+0.00217155\ttest-rmse:0.123818+0.0186928\n",
      "[1000]\ttrain-rmse:0.058625+0.00142288\ttest-rmse:0.12067+0.0189758\n",
      "best_score: 0.120041 of best iteration: 1276.000000 \n",
      "\n",
      " alpha: 0.3\n",
      "[0]\ttrain-rmse:0.378577+0.00596231\ttest-rmse:0.37802+0.0250045\n",
      "[500]\ttrain-rmse:0.078424+0.00229305\ttest-rmse:0.123036+0.019189\n",
      "[1000]\ttrain-rmse:0.0624044+0.00164403\ttest-rmse:0.119875+0.0195356\n",
      "best_score: 0.119296 of best iteration: 1276.000000 \n",
      "\n",
      " alpha: 0.4\n",
      "[0]\ttrain-rmse:0.378595+0.00596211\ttest-rmse:0.378038+0.025005\n",
      "[500]\ttrain-rmse:0.0807966+0.00226657\ttest-rmse:0.123483+0.0189666\n",
      "[1000]\ttrain-rmse:0.0659732+0.00167652\ttest-rmse:0.120489+0.0189379\n",
      "best_score: 0.119719 of best iteration: 1425.000000 \n",
      "\n",
      " alpha: 1\n",
      "[0]\ttrain-rmse:0.378704+0.00595925\ttest-rmse:0.378149+0.0250077\n",
      "[500]\ttrain-rmse:0.0921458+0.00291952\ttest-rmse:0.127407+0.0190428\n",
      "[1000]\ttrain-rmse:0.0811284+0.00243638\ttest-rmse:0.124806+0.0193052\n",
      "best_score: 0.124193 of best iteration: 1336.000000 \n",
      "Best alpha is 0.3 with a score of 0.119296\n",
      "\n",
      " Tuning parameter objective in ['reg:linear', 'count:poisson', 'rank:pairwise']\n",
      "\n",
      " objective: reg:linear\n",
      "[0]\ttrain-rmse:0.378577+0.00596231\ttest-rmse:0.37802+0.0250045\n",
      "[500]\ttrain-rmse:0.078424+0.00229305\ttest-rmse:0.123036+0.019189\n",
      "[1000]\ttrain-rmse:0.0624044+0.00164403\ttest-rmse:0.119875+0.0195356\n",
      "best_score: 0.119296 of best iteration: 1276.000000 \n",
      "\n",
      " objective: count:poisson\n",
      "[0]\ttrain-rmse:0.384491+0.00608063\ttest-rmse:0.383825+0.0251097\n",
      "[500]\ttrain-rmse:0.094335+0.00283902\ttest-rmse:0.129725+0.0178684\n",
      "[1000]\ttrain-rmse:0.0781858+0.00220911\ttest-rmse:0.124499+0.0190764\n",
      "[1500]\ttrain-rmse:0.0688536+0.00188754\ttest-rmse:0.122543+0.0191564\n",
      "[2000]\ttrain-rmse:0.0622922+0.00168893\ttest-rmse:0.121227+0.0192161\n",
      "best_score: 0.120604 of best iteration: 2443.000000 \n",
      "\n",
      " objective: rank:pairwise\n",
      "[0]\ttrain-rmse:0.37292+0.00614817\ttest-rmse:0.372611+0.0252345\n",
      "best_score: 0.206651 of best iteration: 19.000000 \n",
      "Best objective is reg:linear with a score of 0.119296\n",
      "\n",
      " Best manually tuned parameters: {'eta': 0.05, 'max_depth': 2, 'subsample': 0.85, 'objective': 'reg:linear', 'eval_metric': 'rmse', 'lambda': 0.03, 'alpha': 0.3, 'base_score': 12.030658310971578, 'silent': 1, 'min_child_weight': 0.01}\n"
     ]
    }
   ],
   "source": [
    "import copy\n",
    "default_xgb_params = {\n",
    "    'eta': 0.037,\n",
    "    'max_depth': 5,\n",
    "    'subsample': 0.80,\n",
    "    'objective': 'reg:linear',\n",
    "    'eval_metric': 'rmse',\n",
    "    #'num_boost_rounds': 250,\n",
    "    'lambda': 0.8,   \n",
    "    'alpha': 0.4, \n",
    "    'base_score': y_mean,\n",
    "    'silent': 1\n",
    "}\n",
    "\n",
    "params_xgb_space = {}\n",
    "params_xgb_space['eta'] = [0.01, 0.03, 0.04, 0.05, 0.06, 0.07]\n",
    "params_xgb_space['max_depth'] = [2, 3, 4, 5, 6, 7, 8]\n",
    "params_xgb_space['subsample'] = [0.8, 0.85, 0.9, 0.95, 1]\n",
    "params_xgb_space['min_child_weight'] = [0.01, 0.1, 0.5, 1, 5, 10]\n",
    "params_xgb_space['lambda'] = [0.01, 0.02, 0.03, 0.04, 0.1]\n",
    "params_xgb_space['alpha'] = [0.1, 0.2, 0.3, 0.4, 1]\n",
    "params_xgb_space['objective'] = ['reg:linear', 'count:poisson', 'rank:pairwise']\n",
    "\n",
    "best_xgb_params = copy.copy(default_xgb_params)\n",
    "\n",
    "for p in params_xgb_space:\n",
    "    print(\"\\n Tuning parameter %s in %s\" % (p, params_xgb_space[p]))\n",
    "    params = best_xgb_params\n",
    "    scores = []\n",
    "    for v in params_xgb_space[p]:\n",
    "        print(\"\\n %s: %s\" % (p, v), end=\"\\n\")\n",
    "        params[p] = v\n",
    "        xgb_cv = xgb.cv(params,\n",
    "                       xgb.DMatrix(pre_train,\n",
    "                                  label=y_train),\n",
    "                       num_boost_round=10000,\n",
    "                       nfold = kfolds,\n",
    "                       stratified=False,\n",
    "                       early_stopping_rounds=50,\n",
    "                       verbose_eval=500)\n",
    "        best_xgb_score = min(xgb_cv['test-rmse-mean'])\n",
    "        best_xgb_iteration = len(xgb_cv['test-rmse-mean'])\n",
    "        print ('best_score: %f of best iteration: %f ' % (best_xgb_score, best_xgb_iteration))\n",
    "        scores.append([v, best_xgb_score])\n",
    "    best_param_value = sorted(scores, key=lambda x:x[1], reverse = False)[0][0]\n",
    "    best_param_score = sorted(scores, key=lambda x:x[1], reverse = False)[0][1]\n",
    "    best_xgb_params[p] = best_param_value\n",
    "    print (\"Best %s is %s with a score of %f\" %(p, best_param_value, best_param_score))\n",
    "\n",
    "print ('\\n Best manually tuned parameters:', best_xgb_params)    \n"
   ]
  },
  {
   "cell_type": "code",
   "execution_count": 1791,
   "metadata": {},
   "outputs": [
    {
     "name": "stdout",
     "output_type": "stream",
     "text": [
      ", best_score: 0.118785, best_iteration: 10000\n",
      "\n",
      "Training XGBoost ...\n",
      "\n",
      "Predicting with XGBoost ...\n"
     ]
    }
   ],
   "source": [
    "\n",
    "xgb_cv = xgb.cv(best_xgb_params,\n",
    "            dtrain,\n",
    "            num_boost_round=10000,\n",
    "            nfold=kfolds,\n",
    "            stratified=False,\n",
    "            )\n",
    "\n",
    "\n",
    "best_xgb_score = min(xgb_cv['test-rmse-mean'])\n",
    "best_xgb_iteration = len(xgb_cv['test-rmse-mean'])\n",
    "print (', best_score: %f, best_iteration: %d' % (best_xgb_score, best_xgb_iteration))\n",
    "dtrain = xgb.DMatrix(pre_train, y_train)\n",
    "dmytest = xgb.DMatrix(pre_mytest)\n",
    "\n",
    "#num_boost_rounds = 250\n",
    "#print(\"num_boost_rounds=\"+str(num_boost_rounds))\n",
    "\n",
    "# train model\n",
    "print( \"\\nTraining XGBoost ...\")\n",
    "model = xgb.train(dict(xgb_params, silent=1), dtrain, num_boost_round=best_xgb_iteration)\n",
    "\n",
    "print( \"\\nPredicting with XGBoost ...\")\n",
    "xgb_predmytest = model.predict(dmytest)\n"
   ]
  },
  {
   "cell_type": "code",
   "execution_count": 1792,
   "metadata": {},
   "outputs": [],
   "source": [
    "dtest = xgb.DMatrix(pre_test)"
   ]
  },
  {
   "cell_type": "code",
   "execution_count": 1793,
   "metadata": {},
   "outputs": [],
   "source": [
    "xgb_predtest = model.predict(dtest)\n",
    "xgb_prediction = np.exp(xgb_predtest) - 1"
   ]
  },
  {
   "cell_type": "code",
   "execution_count": 1794,
   "metadata": {},
   "outputs": [],
   "source": [
    "sub = pd.DataFrame()\n",
    "sub['id'] = test_id\n",
    "sub['SalePrice'] = xgb_prediction\n",
    "sub.to_csv('xgb_submission2.csv',index=False)\n"
   ]
  },
  {
   "cell_type": "code",
   "execution_count": 1850,
   "metadata": {},
   "outputs": [],
   "source": [
    "dmytest = xgb.DMatrix(pre_mytest)\n",
    "xgb_predmytest = model.predict(dmytest)"
   ]
  },
  {
   "cell_type": "code",
   "execution_count": 1851,
   "metadata": {},
   "outputs": [
    {
     "data": {
      "text/plain": [
       "0.13569303194416268"
      ]
     },
     "execution_count": 1851,
     "metadata": {},
     "output_type": "execute_result"
    }
   ],
   "source": [
    "np.sqrt(mean_squared_error(y_mytest, xgb_predmytest))"
   ]
  },
  {
   "cell_type": "code",
   "execution_count": 1878,
   "metadata": {},
   "outputs": [
    {
     "data": {
      "text/plain": [
       "0.013976364690339872"
      ]
     },
     "execution_count": 1878,
     "metadata": {},
     "output_type": "execute_result"
    }
   ],
   "source": [
    "#dtrain = xgb.DMatrix(pre_train)\n",
    "xgb_predtrain = model.predict(dtrain)\n",
    "np.sqrt(mean_squared_error(y_train, xgb_predtrain))"
   ]
  },
  {
   "cell_type": "code",
   "execution_count": 1745,
   "metadata": {},
   "outputs": [],
   "source": [
    "xgb.cv?"
   ]
  },
  {
   "cell_type": "markdown",
   "metadata": {},
   "source": [
    "## LightGBM Method"
   ]
  },
  {
   "cell_type": "code",
   "execution_count": 1763,
   "metadata": {},
   "outputs": [],
   "source": [
    "import lightgbm as lgb\n",
    "from sklearn.model_selection import KFold, StratifiedKFold\n",
    "kfolds = 5\n",
    "random_state = 42"
   ]
  },
  {
   "cell_type": "code",
   "execution_count": 1591,
   "metadata": {},
   "outputs": [
    {
     "name": "stdout",
     "output_type": "stream",
     "text": [
      "Best LightGBM score : 0.150939, best iteration: 186\n"
     ]
    }
   ],
   "source": [
    "lgb_params = {'objective':'regression_l2',\n",
    "              'learning_rate':0.02,\n",
    "              'metric':'rmse','bagging_freq':1,\n",
    "              'seed':1234,'num_leaves':30,'verbose':1,\n",
    "              'max_depth':30,'min_gain_to_split':0.5,\n",
    "              'feature_fraction':0.5,'bagging_fraction':1,\n",
    "              'min_sum_hessian_in_leaf':1,\n",
    "              'lambda_l2':0,'lambda_l1':0\n",
    "    \n",
    "}\n",
    "\n",
    "lgb_cv = lgb.cv(lgb_params,\n",
    "               lgb.Dataset(pre_train,\n",
    "                          label = y_train),\n",
    "               num_boost_round=10000,\n",
    "               nfold=kfolds,\n",
    "               stratified=False,\n",
    "               early_stopping_rounds=50,\n",
    "               verbose_eval=500\n",
    "               )\n",
    "best_lgb_score = min(lgb_cv['rmse-mean'])\n",
    "best_lgb_iteration = len(lgb_cv['rmse-mean'])\n",
    "print('Best LightGBM score : %f, best iteration: %d' %(best_lgb_score, best_lgb_iteration))"
   ]
  },
  {
   "cell_type": "code",
   "execution_count": 1588,
   "metadata": {},
   "outputs": [],
   "source": [
    "model = lgb.train(lgb_params,\n",
    "                lgb.Dataset(pre_train,\n",
    "                            label=y_train\n",
    "                            ),\n",
    "                num_boost_round=best_lgb_iteration)"
   ]
  },
  {
   "cell_type": "markdown",
   "metadata": {},
   "source": [
    "### LightGBM Parameter tuning"
   ]
  },
  {
   "cell_type": "code",
   "execution_count": 1839,
   "metadata": {},
   "outputs": [
    {
     "name": "stdout",
     "output_type": "stream",
     "text": [
      "\n",
      " Tuning parameter learning_rate in [0.027, 0.03, 0.033, 0.04]\n",
      "\n",
      " learning_rate: 0.027\n",
      "[500]\tcv_agg's rmse: 0.13242 + 0.0167226\n",
      ", best_score: 0.132376, best_iteration: 494\n",
      "\n",
      " learning_rate: 0.03\n",
      "[500]\tcv_agg's rmse: 0.132039 + 0.0172441\n",
      ", best_score: 0.132006, best_iteration: 493\n",
      "\n",
      " learning_rate: 0.033\n",
      ", best_score: 0.132149, best_iteration: 254\n",
      "\n",
      " learning_rate: 0.04\n",
      ", best_score: 0.132100, best_iteration: 348\n",
      "Best learning_rate is 0.03 with a score of 0.132006\n",
      "\n",
      " Tuning parameter n_estimators in [10, 100, 450, 500, 550, 900]\n",
      "\n",
      " n_estimators: 10\n",
      ", best_score: 0.313044, best_iteration: 10\n",
      "\n",
      " n_estimators: 100\n",
      ", best_score: 0.141970, best_iteration: 100\n",
      "\n",
      " n_estimators: 450\n",
      ", best_score: 0.132066, best_iteration: 449\n",
      "\n",
      " n_estimators: 500\n",
      "[500]\tcv_agg's rmse: 0.132039 + 0.0172441\n",
      ", best_score: 0.132006, best_iteration: 493\n",
      "\n",
      " n_estimators: 550\n",
      "[500]\tcv_agg's rmse: 0.132039 + 0.0172441\n",
      ", best_score: 0.132006, best_iteration: 493\n",
      "\n",
      " n_estimators: 900\n",
      "[500]\tcv_agg's rmse: 0.132039 + 0.0172441\n",
      ", best_score: 0.132006, best_iteration: 493\n",
      "Best n_estimators is 500 with a score of 0.132006\n",
      "\n",
      " Tuning parameter max_bin in [10, 15, 20, 25, 30, 50, 100, 1000]\n",
      "\n",
      " max_bin: 10\n",
      ", best_score: 0.133669, best_iteration: 407\n",
      "\n",
      " max_bin: 15\n",
      ", best_score: 0.131866, best_iteration: 417\n",
      "\n",
      " max_bin: 20\n",
      "[500]\tcv_agg's rmse: 0.131042 + 0.0158298\n",
      ", best_score: 0.131031, best_iteration: 461\n",
      "\n",
      " max_bin: 25\n",
      "[500]\tcv_agg's rmse: 0.13201 + 0.0146706\n",
      ", best_score: 0.132008, best_iteration: 496\n",
      "\n",
      " max_bin: 30\n",
      "[500]\tcv_agg's rmse: 0.131554 + 0.0147318\n",
      ", best_score: 0.131554, best_iteration: 500\n",
      "\n",
      " max_bin: 50\n",
      "[500]\tcv_agg's rmse: 0.131874 + 0.0161776\n",
      ", best_score: 0.131874, best_iteration: 500\n",
      "\n",
      " max_bin: 100\n",
      "[500]\tcv_agg's rmse: 0.132531 + 0.0152571\n",
      ", best_score: 0.132531, best_iteration: 500\n",
      "\n",
      " max_bin: 1000\n",
      "[500]\tcv_agg's rmse: 0.132274 + 0.0168375\n",
      ", best_score: 0.132261, best_iteration: 499\n",
      "Best max_bin is 20 with a score of 0.131031\n",
      "\n",
      " Tuning parameter max_depth in [2, 3, 4, 5, 10, -1]\n",
      "\n",
      " max_depth: 2\n",
      "[500]\tcv_agg's rmse: 0.131383 + 0.0189678\n",
      ", best_score: 0.131383, best_iteration: 500\n",
      "\n",
      " max_depth: 3\n",
      "[500]\tcv_agg's rmse: 0.128909 + 0.0183366\n",
      ", best_score: 0.128909, best_iteration: 500\n",
      "\n",
      " max_depth: 4\n",
      "[500]\tcv_agg's rmse: 0.130254 + 0.0179186\n",
      ", best_score: 0.130254, best_iteration: 500\n",
      "\n",
      " max_depth: 5\n",
      "[500]\tcv_agg's rmse: 0.129551 + 0.0179601\n",
      ", best_score: 0.129551, best_iteration: 500\n",
      "\n",
      " max_depth: 10\n",
      "[500]\tcv_agg's rmse: 0.130504 + 0.0155007\n",
      ", best_score: 0.130467, best_iteration: 494\n",
      "\n",
      " max_depth: -1\n",
      "[500]\tcv_agg's rmse: 0.131042 + 0.0158298\n",
      ", best_score: 0.131031, best_iteration: 461\n",
      "Best max_depth is 3 with a score of 0.128909\n",
      "\n",
      " Tuning parameter num_leaves in [3, 5, 7, 8, 10, 12]\n",
      "\n",
      " num_leaves: 3\n",
      "[500]\tcv_agg's rmse: 0.13283 + 0.0183164\n",
      ", best_score: 0.132830, best_iteration: 500\n",
      "\n",
      " num_leaves: 5\n",
      "[500]\tcv_agg's rmse: 0.129344 + 0.0184479\n",
      ", best_score: 0.129315, best_iteration: 498\n",
      "\n",
      " num_leaves: 7\n",
      "[500]\tcv_agg's rmse: 0.129317 + 0.0193315\n",
      ", best_score: 0.129301, best_iteration: 496\n",
      "\n",
      " num_leaves: 8\n",
      "[500]\tcv_agg's rmse: 0.128909 + 0.0183366\n",
      ", best_score: 0.128909, best_iteration: 500\n",
      "\n",
      " num_leaves: 10\n",
      "[500]\tcv_agg's rmse: 0.128909 + 0.0183366\n",
      ", best_score: 0.128909, best_iteration: 500\n",
      "\n",
      " num_leaves: 12\n",
      "[500]\tcv_agg's rmse: 0.128909 + 0.0183366\n",
      ", best_score: 0.128909, best_iteration: 500\n",
      "Best num_leaves is 8 with a score of 0.128909\n",
      "\n",
      " Tuning parameter bagging_fraction in [0.7, 0.73, 0.75, 0.78, 0.8, 0.9]\n",
      "\n",
      " bagging_fraction: 0.7\n",
      "[500]\tcv_agg's rmse: 0.125595 + 0.0197618\n",
      ", best_score: 0.125595, best_iteration: 500\n",
      "\n",
      " bagging_fraction: 0.73\n",
      "[500]\tcv_agg's rmse: 0.126121 + 0.0202415\n",
      ", best_score: 0.126121, best_iteration: 500\n",
      "\n",
      " bagging_fraction: 0.75\n",
      "[500]\tcv_agg's rmse: 0.1257 + 0.0200192\n",
      ", best_score: 0.125692, best_iteration: 499\n",
      "\n",
      " bagging_fraction: 0.78\n",
      "[500]\tcv_agg's rmse: 0.125535 + 0.0201283\n",
      ", best_score: 0.125535, best_iteration: 500\n",
      "\n",
      " bagging_fraction: 0.8\n",
      "[500]\tcv_agg's rmse: 0.125781 + 0.0202089\n",
      ", best_score: 0.125781, best_iteration: 500\n",
      "\n",
      " bagging_fraction: 0.9\n",
      "[500]\tcv_agg's rmse: 0.127895 + 0.0193132\n",
      ", best_score: 0.127895, best_iteration: 500\n",
      "Best bagging_fraction is 0.78 with a score of 0.125535\n",
      "\n",
      " Tuning parameter bagging_freq in [1, 3, 4, 5, 7, 10]\n",
      "\n",
      " bagging_freq: 1\n",
      "[500]\tcv_agg's rmse: 0.125535 + 0.0201283\n",
      ", best_score: 0.125535, best_iteration: 500\n",
      "\n",
      " bagging_freq: 3\n",
      "[500]\tcv_agg's rmse: 0.127019 + 0.0190374\n",
      ", best_score: 0.127019, best_iteration: 500\n",
      "\n",
      " bagging_freq: 4\n",
      "[500]\tcv_agg's rmse: 0.127156 + 0.0183766\n",
      ", best_score: 0.127152, best_iteration: 499\n",
      "\n",
      " bagging_freq: 5\n",
      "[500]\tcv_agg's rmse: 0.126688 + 0.019383\n",
      ", best_score: 0.126688, best_iteration: 500\n",
      "\n",
      " bagging_freq: 7\n",
      "[500]\tcv_agg's rmse: 0.12671 + 0.0195305\n",
      ", best_score: 0.126646, best_iteration: 493\n",
      "\n",
      " bagging_freq: 10\n",
      "[500]\tcv_agg's rmse: 0.127164 + 0.0194338\n",
      ", best_score: 0.127164, best_iteration: 500\n",
      "Best bagging_freq is 1 with a score of 0.125535\n",
      "\n",
      " Tuning parameter min_gain_to_split in [0, 0.0005, 0.001, 0.005, 0.01]\n",
      "\n",
      " min_gain_to_split: 0\n",
      "[500]\tcv_agg's rmse: 0.125535 + 0.0201283\n",
      ", best_score: 0.125535, best_iteration: 500\n",
      "\n",
      " min_gain_to_split: 0.0005\n",
      "[500]\tcv_agg's rmse: 0.125477 + 0.0202864\n",
      ", best_score: 0.125477, best_iteration: 500\n",
      "\n",
      " min_gain_to_split: 0.001\n",
      "[500]\tcv_agg's rmse: 0.125446 + 0.0200958\n",
      ", best_score: 0.125446, best_iteration: 500\n",
      "\n",
      " min_gain_to_split: 0.005\n",
      "[500]\tcv_agg's rmse: 0.125559 + 0.0201897\n",
      ", best_score: 0.125559, best_iteration: 500\n",
      "\n",
      " min_gain_to_split: 0.01\n",
      "[500]\tcv_agg's rmse: 0.125423 + 0.0203827\n",
      ", best_score: 0.125423, best_iteration: 500\n",
      "Best min_gain_to_split is 0.01 with a score of 0.125423\n",
      "\n",
      " Tuning parameter feature_fraction in [0.1, 0.2, 0.3, 0.4, 0.5, 0.8]\n",
      "\n",
      " feature_fraction: 0.1\n",
      "[500]\tcv_agg's rmse: 0.125898 + 0.0180767\n",
      ", best_score: 0.125898, best_iteration: 500\n",
      "\n",
      " feature_fraction: 0.2\n",
      "[500]\tcv_agg's rmse: 0.122866 + 0.0184611\n",
      ", best_score: 0.122866, best_iteration: 500\n",
      "\n",
      " feature_fraction: 0.3\n",
      "[500]\tcv_agg's rmse: 0.123697 + 0.0187757\n",
      ", best_score: 0.123697, best_iteration: 500\n",
      "\n",
      " feature_fraction: 0.4\n",
      "[500]\tcv_agg's rmse: 0.123008 + 0.0195057\n",
      ", best_score: 0.123002, best_iteration: 499\n",
      "\n",
      " feature_fraction: 0.5\n",
      "[500]\tcv_agg's rmse: 0.124165 + 0.019857\n",
      ", best_score: 0.124165, best_iteration: 500\n",
      "\n",
      " feature_fraction: 0.8\n",
      "[500]\tcv_agg's rmse: 0.124762 + 0.019567\n",
      ", best_score: 0.124762, best_iteration: 500\n",
      "Best feature_fraction is 0.2 with a score of 0.122866\n",
      "\n",
      " Tuning parameter min_data_in_leaf in [10, 12, 15, 18, 20, 25]\n",
      "\n",
      " min_data_in_leaf: 10\n",
      "[500]\tcv_agg's rmse: 0.123417 + 0.0180213\n",
      ", best_score: 0.123417, best_iteration: 500\n",
      "\n",
      " min_data_in_leaf: 12\n",
      "[500]\tcv_agg's rmse: 0.122445 + 0.0168827\n",
      ", best_score: 0.122445, best_iteration: 500\n",
      "\n",
      " min_data_in_leaf: 15\n",
      "[500]\tcv_agg's rmse: 0.122384 + 0.0183729\n",
      ", best_score: 0.122383, best_iteration: 498\n",
      "\n",
      " min_data_in_leaf: 18\n",
      "[500]\tcv_agg's rmse: 0.124053 + 0.0186495\n",
      ", best_score: 0.124049, best_iteration: 499\n",
      "\n",
      " min_data_in_leaf: 20\n",
      "[500]\tcv_agg's rmse: 0.122866 + 0.0184611\n",
      ", best_score: 0.122866, best_iteration: 500\n",
      "\n",
      " min_data_in_leaf: 25\n",
      "[500]\tcv_agg's rmse: 0.123699 + 0.0194258\n",
      ", best_score: 0.123699, best_iteration: 500\n",
      "Best min_data_in_leaf is 15 with a score of 0.122383\n",
      "\n",
      " Tuning parameter min_sum_hessian_in_leaf in [0.0001, 0.0005, 0.001, 0.01, 0.1]\n",
      "\n",
      " min_sum_hessian_in_leaf: 0.0001\n",
      "[500]\tcv_agg's rmse: 0.122384 + 0.0183729\n",
      ", best_score: 0.122383, best_iteration: 498\n",
      "\n",
      " min_sum_hessian_in_leaf: 0.0005\n",
      "[500]\tcv_agg's rmse: 0.122384 + 0.0183729\n",
      ", best_score: 0.122383, best_iteration: 498\n",
      "\n",
      " min_sum_hessian_in_leaf: 0.001\n",
      "[500]\tcv_agg's rmse: 0.122384 + 0.0183729\n",
      ", best_score: 0.122383, best_iteration: 498\n",
      "\n",
      " min_sum_hessian_in_leaf: 0.01\n",
      "[500]\tcv_agg's rmse: 0.122384 + 0.0183729\n",
      ", best_score: 0.122383, best_iteration: 498\n",
      "\n",
      " min_sum_hessian_in_leaf: 0.1\n",
      "[500]\tcv_agg's rmse: 0.122384 + 0.0183729\n",
      ", best_score: 0.122383, best_iteration: 498\n",
      "Best min_sum_hessian_in_leaf is 0.0001 with a score of 0.122383\n",
      "\n",
      " Tuning parameter lambda_l2 in [0, 0.001, 0.01, 0.1, 0.5, 1]\n",
      "\n",
      " lambda_l2: 0\n",
      "[500]\tcv_agg's rmse: 0.122384 + 0.0183729\n",
      ", best_score: 0.122383, best_iteration: 498\n",
      "\n",
      " lambda_l2: 0.001\n",
      "[500]\tcv_agg's rmse: 0.122384 + 0.0183737\n",
      ", best_score: 0.122383, best_iteration: 498\n",
      "\n",
      " lambda_l2: 0.01\n",
      "[500]\tcv_agg's rmse: 0.122388 + 0.0183745\n",
      ", best_score: 0.122388, best_iteration: 500\n",
      "\n",
      " lambda_l2: 0.1\n"
     ]
    },
    {
     "name": "stdout",
     "output_type": "stream",
     "text": [
      "[500]\tcv_agg's rmse: 0.122468 + 0.0183776\n",
      ", best_score: 0.122468, best_iteration: 500\n",
      "\n",
      " lambda_l2: 0.5\n",
      "[500]\tcv_agg's rmse: 0.122566 + 0.0183568\n",
      ", best_score: 0.122566, best_iteration: 500\n",
      "\n",
      " lambda_l2: 1\n",
      "[500]\tcv_agg's rmse: 0.122737 + 0.0185995\n",
      ", best_score: 0.122732, best_iteration: 497\n",
      "Best lambda_l2 is 0.001 with a score of 0.122383\n",
      "\n",
      " Tuning parameter lambda_l1 in [0, 0.001, 0.005, 0.01, 0.1, 0.5, 1]\n",
      "\n",
      " lambda_l1: 0\n",
      "[500]\tcv_agg's rmse: 0.122384 + 0.0183737\n",
      ", best_score: 0.122383, best_iteration: 498\n",
      "\n",
      " lambda_l1: 0.001\n",
      "[500]\tcv_agg's rmse: 0.122171 + 0.0184075\n",
      ", best_score: 0.122171, best_iteration: 500\n",
      "\n",
      " lambda_l1: 0.005\n",
      "[500]\tcv_agg's rmse: 0.122277 + 0.0183106\n",
      ", best_score: 0.122277, best_iteration: 500\n",
      "\n",
      " lambda_l1: 0.01\n",
      "[500]\tcv_agg's rmse: 0.122122 + 0.0185334\n",
      ", best_score: 0.122122, best_iteration: 500\n",
      "\n",
      " lambda_l1: 0.1\n",
      "[500]\tcv_agg's rmse: 0.122686 + 0.0185991\n",
      ", best_score: 0.122671, best_iteration: 497\n",
      "\n",
      " lambda_l1: 0.5\n",
      "[500]\tcv_agg's rmse: 0.124879 + 0.0192797\n",
      ", best_score: 0.124879, best_iteration: 500\n",
      "\n",
      " lambda_l1: 1\n",
      "[500]\tcv_agg's rmse: 0.12837 + 0.019931\n",
      ", best_score: 0.128370, best_iteration: 500\n",
      "Best lambda_l1 is 0.01 with a score of 0.122122\n",
      "\n",
      " Tuning parameter objective in ['regression', 'regression_l2', 'regression_l1', 'poisson']\n",
      "\n",
      " objective: regression\n",
      "[500]\tcv_agg's rmse: 0.122122 + 0.0185334\n",
      ", best_score: 0.122122, best_iteration: 500\n",
      "\n",
      " objective: regression_l2\n",
      "[500]\tcv_agg's rmse: 0.122122 + 0.0185334\n",
      ", best_score: 0.122122, best_iteration: 500\n",
      "\n",
      " objective: regression_l1\n",
      "[500]\tcv_agg's rmse: 0.127777 + 0.0193631\n",
      ", best_score: 0.127777, best_iteration: 500\n",
      "\n",
      " objective: poisson\n",
      "[500]\tcv_agg's rmse: 0.139178 + 0.0178492\n",
      ", best_score: 0.139178, best_iteration: 467\n",
      "Best objective is regression with a score of 0.122122\n",
      "\n",
      " Best manually tuned parameters: {'learning_rate': 0.03, 'metric': 'rmse', 'bagging_freq': 1, 'objective': 'regression', 'num_threads': 2, 'feature_fraction_seed': (9,), 'bagging_seed': 9, 'n_estimators': 500, 'max_bin': 20, 'max_depth': 3, 'num_leaves': 8, 'bagging_fraction': 0.78, 'min_gain_to_split': 0.01, 'feature_fraction': 0.2, 'min_data_in_leaf': 15, 'min_sum_hessian_in_leaf': 0.0001, 'lambda_l2': 0.001, 'lambda_l1': 0.01}\n"
     ]
    }
   ],
   "source": [
    "import copy\n",
    "default_lgb_params = {}\n",
    "default_lgb_params['learning_rate'] = 0.02\n",
    "default_lgb_params[\"metric\"] = 'rmse'\n",
    "default_lgb_params[\"bagging_freq\"] = 1\n",
    "#default_lgb_params[\"seed\"] = 9\n",
    "default_lgb_params[\"objective\"] = \"regression_l2\"\n",
    "default_lgb_params[\"num_threads\"] = 2\n",
    "default_lgb_params[\"feature_fraction_seed\"] =9, \n",
    "default_lgb_params[\"bagging_seed\"] =9\n",
    "\n",
    "params_lgb_space = {}\n",
    "params_lgb_space['learning_rate'] =[0.027, 0.03, 0.033, 0.04]\n",
    "params_lgb_space['n_estimators'] = [10, 100, 450, 500, 550, 900]\n",
    "params_lgb_space['max_bin'] = [10, 15, 20, 25, 30, 50, 100, 1000]\n",
    "params_lgb_space['max_depth'] = [2, 3, 4, 5, 10, -1]\n",
    "params_lgb_space['num_leaves'] = [3, 5, 7, 8, 10, 12]\n",
    "params_lgb_space['bagging_fraction'] = [0.7, 0.73, 0.75, 0.78, 0.8, 0.9]\n",
    "params_lgb_space[\"bagging_freq\"] = [1,  3, 4, 5, 7, 10]\n",
    "params_lgb_space['min_gain_to_split'] = [0, 0.0005, 0.001, 0.005, 0.01]\n",
    "params_lgb_space['feature_fraction'] = [0.1, 0.2, 0.3, 0.4, 0.5, 0.8]\n",
    "params_lgb_space['min_data_in_leaf'] = [10, 12, 15, 18, 20, 25]\n",
    "params_lgb_space['min_sum_hessian_in_leaf'] = [0.0001, 0.0005, 0.001, 0.01, 0.1]\n",
    "params_lgb_space['lambda_l2'] = [0, 0.001, 0.01, 0.1, 0.5, 1]\n",
    "params_lgb_space['lambda_l1'] = [0, 0.001, 0.005, 0.01, 0.1, 0.5, 1]\n",
    "params_lgb_space['objective'] = ['regression', 'regression_l2', 'regression_l1', 'poisson']\n",
    "\n",
    "best_lgb_params = copy.copy(default_lgb_params)\n",
    "\n",
    "for p in params_lgb_space:\n",
    "    print(\"\\n Tuning parameter %s in %s\" % (p, params_lgb_space[p]))\n",
    "    params = best_lgb_params\n",
    "    scores = []\n",
    "    for v in params_lgb_space[p]:\n",
    "        print(\"\\n %s: %s\" % (p, v), end=\"\\n\")\n",
    "        params[p] = v\n",
    "        lgb_cv = lgb.cv(params,\n",
    "                       lgb.Dataset(pre_train,\n",
    "                                  label=y_train),\n",
    "                       num_boost_round=10000,\n",
    "                       nfold = kfolds,\n",
    "                       stratified=False,\n",
    "                       early_stopping_rounds=50,\n",
    "                       verbose_eval=500)\n",
    "        best_lgb_score = min(lgb_cv['rmse-mean'])\n",
    "        best_lgb_iteration = len(lgb_cv['rmse-mean'])\n",
    "        print (', best_score: %f, best_iteration: %d' % (best_lgb_score, best_lgb_iteration))\n",
    "        scores.append([v, best_lgb_score])\n",
    "    best_param_value = sorted(scores, key=lambda x:x[1], reverse = False)[0][0]\n",
    "    best_param_score = sorted(scores, key=lambda x:x[1], reverse = False)[0][1]\n",
    "    best_lgb_params[p] = best_param_value\n",
    "    print (\"Best %s is %s with a score of %f\" %(p, best_param_value, best_param_score))\n",
    "\n",
    "print ('\\n Best manually tuned parameters:', best_lgb_params)    \n"
   ]
  },
  {
   "cell_type": "code",
   "execution_count": null,
   "metadata": {},
   "outputs": [],
   "source": [
    "0.120697"
   ]
  },
  {
   "cell_type": "code",
   "execution_count": 1852,
   "metadata": {
    "scrolled": true
   },
   "outputs": [
    {
     "name": "stdout",
     "output_type": "stream",
     "text": [
      "{'learning_rate': 0.03, 'metric': 'rmse', 'bagging_freq': 1, 'objective': 'regression', 'num_threads': 2, 'feature_fraction_seed': (9,), 'bagging_seed': 9, 'n_estimators': 500, 'max_bin': 20, 'max_depth': 3, 'num_leaves': 8, 'bagging_fraction': 0.78, 'min_gain_to_split': 0.01, 'feature_fraction': 0.2, 'min_data_in_leaf': 15, 'min_sum_hessian_in_leaf': 0.0001, 'lambda_l2': 0.001, 'lambda_l1': 0.01}\n",
      "[500]\tcv_agg's rmse: 0.122122 + 0.0185334\n",
      ", best_score: 0.122122, best_iteration: 500\n"
     ]
    }
   ],
   "source": [
    "print (best_lgb_params)\n",
    "\n",
    "\n",
    "lgb_cv = lgb.cv(best_lgb_params,\n",
    "            lgb.Dataset(pre_train,\n",
    "                        label=y_train\n",
    "                        ),\n",
    "            num_boost_round=10000,\n",
    "            nfold=kfolds,\n",
    "            stratified=False,\n",
    "            early_stopping_rounds=50,\n",
    "            verbose_eval=500)\n",
    "\n",
    "best_lgb_score = min(lgb_cv['rmse-mean'])\n",
    "best_lgb_iteration = len(lgb_cv['rmse-mean'])\n",
    "print (', best_score: %f, best_iteration: %d' % (best_lgb_score, best_lgb_iteration))"
   ]
  },
  {
   "cell_type": "code",
   "execution_count": 1853,
   "metadata": {},
   "outputs": [],
   "source": [
    "train_data = lgb.Dataset(pre_train, label=y_train)\n",
    "mytest_data = lgb.Dataset(pre_mytest, label=y_mytest)"
   ]
  },
  {
   "cell_type": "code",
   "execution_count": 1854,
   "metadata": {},
   "outputs": [],
   "source": [
    "bst = lgb.train(best_lgb_params, train_data, num_boost_round=best_lgb_iteration)"
   ]
  },
  {
   "cell_type": "code",
   "execution_count": 1855,
   "metadata": {},
   "outputs": [],
   "source": [
    "mytest_data = lgb.Dataset(pre_mytest)\n",
    "test_data = lgb.Dataset(pre_test)"
   ]
  },
  {
   "cell_type": "code",
   "execution_count": 1856,
   "metadata": {},
   "outputs": [],
   "source": [
    "trainpred = bst.predict(pre_train, num_boost_round=best_lgb_iteration)"
   ]
  },
  {
   "cell_type": "code",
   "execution_count": 1857,
   "metadata": {},
   "outputs": [],
   "source": [
    "mytestpred = bst.predict(pre_mytest, num_boost_round=best_lgb_iteration)"
   ]
  },
  {
   "cell_type": "code",
   "execution_count": 1858,
   "metadata": {},
   "outputs": [
    {
     "data": {
      "text/plain": [
       "0.13431626681129732"
      ]
     },
     "execution_count": 1858,
     "metadata": {},
     "output_type": "execute_result"
    }
   ],
   "source": [
    "from sklearn.metrics import mean_squared_error\n",
    "np.sqrt(mean_squared_error(y_mytest, mytestpred))"
   ]
  },
  {
   "cell_type": "code",
   "execution_count": 1877,
   "metadata": {},
   "outputs": [
    {
     "name": "stdout",
     "output_type": "stream",
     "text": [
      "mean squared error:0.09237440883435132\n"
     ]
    }
   ],
   "source": [
    "\n",
    "print(\"mean squared error:\"+ str(np.sqrt(metrics.mean_squared_error(trainpred ,y_train))))"
   ]
  },
  {
   "cell_type": "code",
   "execution_count": null,
   "metadata": {},
   "outputs": [],
   "source": []
  },
  {
   "cell_type": "code",
   "execution_count": 1847,
   "metadata": {},
   "outputs": [],
   "source": [
    "testpred = bst.predict(pre_test, num_boost_round=best_lgb_iteration)"
   ]
  },
  {
   "cell_type": "code",
   "execution_count": 1848,
   "metadata": {},
   "outputs": [],
   "source": [
    "lgb_prediction = np.exp(testpred) - 1"
   ]
  },
  {
   "cell_type": "code",
   "execution_count": 1849,
   "metadata": {},
   "outputs": [],
   "source": [
    "sub = pd.DataFrame()\n",
    "sub['id'] = test_id\n",
    "sub['SalePrice'] = lgb_prediction\n",
    "sub.to_csv('lgb_submission6.csv',index=False)\n",
    "\n",
    "# 1: 0.13005\n",
    "# 2: 0.12796\n",
    "# 3: 0.12670\n",
    "# 4: 0.12663\n",
    "#"
   ]
  },
  {
   "cell_type": "code",
   "execution_count": 1811,
   "metadata": {
    "scrolled": true
   },
   "outputs": [
    {
     "data": {
      "text/plain": [
       "<matplotlib.axes._subplots.AxesSubplot at 0x1a2be8fb00>"
      ]
     },
     "execution_count": 1811,
     "metadata": {},
     "output_type": "execute_result"
    },
    {
     "data": {
      "image/png": "[encoded data removed]",
      "text/plain": [
       "<Figure size 648x864 with 1 Axes>"
      ]
     },
     "metadata": {},
     "output_type": "display_data"
    }
   ],
   "source": [
    "lgb.plot_importance(bst, figsize=(9,12), max_num_features=20)"
   ]
  },
  {
   "cell_type": "code",
   "execution_count": 1812,
   "metadata": {},
   "outputs": [
    {
     "data": {
      "image/png": "[encoded data removed]",
      "text/plain": [
       "<Figure size 432x288 with 1 Axes>"
      ]
     },
     "metadata": {},
     "output_type": "display_data"
    }
   ],
   "source": [
    "import pylab as plt \n",
    "from mpl_toolkits.mplot3d import Axes3D\n",
    "fig = plt.figure()\n",
    "ax = Axes3D(plt.gcf()) \n",
    "ax.scatter(xs=pre_train['GrLivArea'], ys=pre_train['LotArea'], zs=y_train, c='skyblue', alpha=0.5)\n",
    "ax.scatter(xs=pre_train['GrLivArea'], ys=pre_train['LotArea'], zs=trainpred, c='darkviolet', alpha=0.5)\n",
    "plt.show()"
   ]
  },
  {
   "cell_type": "code",
   "execution_count": 1813,
   "metadata": {},
   "outputs": [
    {
     "data": {
      "image/png": "[encoded data removed]",
      "text/plain": [
       "<Figure size 432x288 with 1 Axes>"
      ]
     },
     "metadata": {},
     "output_type": "display_data"
    }
   ],
   "source": [
    "fig = plt.figure()\n",
    "ax = Axes3D(plt.gcf()) \n",
    "ax.scatter(xs=pre_mytest['GrLivArea'], ys=pre_mytest['LotArea'], zs=y_mytest, c='skyblue', alpha=0.7)\n",
    "ax.scatter(xs=pre_mytest['GrLivArea'], ys=pre_mytest['LotArea'], zs=mytestpred, c='darkviolet', alpha=0.7)\n",
    "plt.show()"
   ]
  },
  {
   "cell_type": "code",
   "execution_count": null,
   "metadata": {},
   "outputs": [],
   "source": []
  },
  {
   "cell_type": "code",
   "execution_count": null,
   "metadata": {},
   "outputs": [],
   "source": []
  },
  {
   "cell_type": "code",
   "execution_count": 1633,
   "metadata": {},
   "outputs": [],
   "source": [
    "import plotly.plotly as py\n",
    "import plotly.graph_objs as go"
   ]
  },
  {
   "cell_type": "code",
   "execution_count": 1634,
   "metadata": {},
   "outputs": [],
   "source": [
    "plot_train = pd.DataFrame()\n",
    "plot_train['GrLivArea'] = pre_train['GrLivArea']\n",
    "plot_train['1stFlrSF'] = pre_train['1stFlrSF']\n",
    "plot_train['logprice'] = y_train\n",
    "\n",
    "\n",
    "plot_tpred = pd.DataFrame()\n",
    "plot_tpred['GrLivArea'] = pre_train['GrLivArea']\n",
    "plot_tpred['1stFlrSF'] = pre_train['1stFlrSF']\n",
    "plot_tpred['logprice'] = trainpred\n",
    "\n"
   ]
  },
  {
   "cell_type": "code",
   "execution_count": 1725,
   "metadata": {},
   "outputs": [],
   "source": [
    "plot = pd.DataFrame()\n",
    "plot['GrLivArea'] = pre_train['GrLivArea']\n",
    "plot['1stFlrSF'] = pre_train['1stFlrSF']\n",
    "plot['logprice'] = y_train\n",
    "plot.to_csv('plot.csv',index=False)\n"
   ]
  },
  {
   "cell_type": "code",
   "execution_count": 1726,
   "metadata": {},
   "outputs": [],
   "source": [
    "plot2 = pd.DataFrame()\n",
    "plot2['GrLivArea'] = pre_train['GrLivArea']\n",
    "plot2['1stFlrSF'] = pre_train['1stFlrSF']\n",
    "plot2['logprice'] = trainpred\n",
    "plot2.to_csv('plot2.csv',index=False)\n"
   ]
  },
  {
   "cell_type": "code",
   "execution_count": 1727,
   "metadata": {},
   "outputs": [],
   "source": [
    "plot = pd.DataFrame()\n",
    "plot['GrLivArea'] = pre_mytest['GrLivArea']\n",
    "plot['1stFlrSF'] = pre_mytest['1stFlrSF']\n",
    "plot['logprice'] = y_mytest\n",
    "plot.to_csv('plot3.csv',index=False)\n",
    "\n",
    "plot2 = pd.DataFrame()\n",
    "plot2['GrLivArea'] = pre_mytest['GrLivArea']\n",
    "plot2['1stFlrSF'] = pre_mytest['1stFlrSF']\n",
    "plot2['logprice'] = mytestpred\n",
    "plot2.to_csv('plot4.csv',index=False)\n"
   ]
  },
  {
   "cell_type": "code",
   "execution_count": null,
   "metadata": {},
   "outputs": [],
   "source": []
  },
  {
   "cell_type": "markdown",
   "metadata": {},
   "source": [
    "## Random Forest method"
   ]
  },
  {
   "cell_type": "code",
   "execution_count": 1863,
   "metadata": {},
   "outputs": [],
   "source": [
    "from sklearn.ensemble import RandomForestRegressor"
   ]
  },
  {
   "cell_type": "code",
   "execution_count": 1874,
   "metadata": {
    "scrolled": true
   },
   "outputs": [
    {
     "data": {
      "text/plain": [
       "RandomForestRegressor(bootstrap=True, criterion='mse', max_depth=3,\n",
       "           max_features='auto', max_leaf_nodes=None,\n",
       "           min_impurity_decrease=0.0, min_impurity_split=None,\n",
       "           min_samples_leaf=1, min_samples_split=2,\n",
       "           min_weight_fraction_leaf=0.0, n_estimators=100, n_jobs=1,\n",
       "           oob_score=False, random_state=0, verbose=0, warm_start=False)"
      ]
     },
     "execution_count": 1874,
     "metadata": {},
     "output_type": "execute_result"
    }
   ],
   "source": [
    "regr = RandomForestRegressor(max_depth=3, random_state=0,\n",
    "                             n_estimators=100)\n",
    "regr.fit(pre_train,y_train)"
   ]
  },
  {
   "cell_type": "code",
   "execution_count": 1876,
   "metadata": {},
   "outputs": [
    {
     "name": "stdout",
     "output_type": "stream",
     "text": [
      "mean squared error:0.1828410773152385\n"
     ]
    }
   ],
   "source": [
    "predicted = regr.predict(pre_train)\n",
    "print(\"mean squared error:\"+ str(np.sqrt(metrics.mean_squared_error(predicted,y_train))))"
   ]
  },
  {
   "cell_type": "code",
   "execution_count": 1875,
   "metadata": {},
   "outputs": [
    {
     "name": "stdout",
     "output_type": "stream",
     "text": [
      "mean squared error:0.20486903036063864\n"
     ]
    }
   ],
   "source": [
    "predicted = regr.predict(pre_mytest)\n",
    "print(\"mean squared error:\"+ str(np.sqrt(metrics.mean_squared_error(predicted,y_mytest))))"
   ]
  },
  {
   "cell_type": "code",
   "execution_count": null,
   "metadata": {},
   "outputs": [],
   "source": []
  },
  {
   "cell_type": "code",
   "execution_count": null,
   "metadata": {},
   "outputs": [],
   "source": []
  },
  {
   "cell_type": "markdown",
   "metadata": {},
   "source": [
    "# Ensemble\n"
   ]
  },
  {
   "cell_type": "code",
   "execution_count": 1815,
   "metadata": {},
   "outputs": [],
   "source": [
    "ensemble = xgb_prediction*0.1 + lgb_prediction*0.9\n",
    "sub = pd.DataFrame()\n",
    "sub['id'] = test_id\n",
    "sub['SalePrice'] = ensemble\n",
    "sub.to_csv('ensemble_submission4.csv',index=False)"
   ]
  },
  {
   "cell_type": "code",
   "execution_count": null,
   "metadata": {},
   "outputs": [],
   "source": []
  },
  {
   "cell_type": "markdown",
   "metadata": {},
   "source": [
    "## references"
   ]
  },
  {
   "cell_type": "markdown",
   "metadata": {},
   "source": [
    "### https://www.kaggle.com/serigne/stacked-regressions-top-4-on-leaderboard"
   ]
  },
  {
   "cell_type": "markdown",
   "metadata": {},
   "source": [
    "### https://www.kaggle.com/apapiu/regularized-linear-models"
   ]
  },
  {
   "cell_type": "code",
   "execution_count": null,
   "metadata": {},
   "outputs": [],
   "source": []
  }
 ],
 "metadata": {
  "kernelspec": {
   "display_name": "Python 3",
   "language": "python",
   "name": "python3"
  },
  "language_info": {
   "codemirror_mode": {
    "name": "ipython",
    "version": 3
   },
   "file_extension": ".py",
   "mimetype": "text/x-python",
   "name": "python",
   "nbconvert_exporter": "python",
   "pygments_lexer": "ipython3",
   "version": "3.6.5"
  },
  "toc": {
   "base_numbering": 1,
   "nav_menu": {},
   "number_sections": true,
   "sideBar": true,
   "skip_h1_title": false,
   "title_cell": "Table of Contents",
   "title_sidebar": "Contents",
   "toc_cell": false,
   "toc_position": {},
   "toc_section_display": true,
   "toc_window_display": false
  }
 },
 "nbformat": 4,
 "nbformat_minor": 2
}
